{
 "cells": [
  {
   "cell_type": "markdown",
   "id": "4d7e886d-0022-44e9-b174-19b49fff238a",
   "metadata": {},
   "source": [
    "# Assingment 1\n",
    "For this assingment you are welcomed to use other regex resources such as a regex \"cheat sheets\" you find on the web. "
   ]
  },
  {
   "cell_type": "markdown",
   "id": "06fc4140-6896-4935-91aa-e87c6531822e",
   "metadata": {},
   "source": [
    "## Part A\n",
    "\n",
    "Find a list of all of the names in the following string using regex."
   ]
  },
  {
   "cell_type": "code",
   "execution_count": 15,
   "id": "599e03b2-214c-4c80-931b-80a72dd06305",
   "metadata": {},
   "outputs": [
    {
     "data": {
      "text/plain": [
       "['Amy', 'Mary', 'Ruth', 'Peter']"
      ]
     },
     "execution_count": 15,
     "metadata": {},
     "output_type": "execute_result"
    }
   ],
   "source": [
    "import re\n",
    "def names():\n",
    "    simple_string = \"\"\"Amy is 5 years old, and her sister Mary is 2 years old. \n",
    "    Ruth and Peter, their parents, have 3 kids.\"\"\"\n",
    "    pattern = r'[A-Z][a-z]+'\n",
    "    return re.findall(pattern,simple_string)\n",
    "names()"
   ]
  },
  {
   "cell_type": "code",
   "execution_count": 8,
   "id": "eecf44d6-d31a-45c4-a0cc-9854472c1607",
   "metadata": {},
   "outputs": [],
   "source": [
    "# TEst the regex code\n",
    "assert len(names())==4, \"There are four names in the simple_string\""
   ]
  },
  {
   "cell_type": "markdown",
   "id": "86344a3d-72b9-4a66-b279-366631b6958b",
   "metadata": {},
   "source": [
    "## Part B\n",
    "\n",
    "The dataset file in [assets/grades.txt](assets/grades.txt) contains a line separated list of people with their grade in a class. Create a regex to generate a list of just those students who received a B in the course."
   ]
  },
  {
   "cell_type": "code",
   "execution_count": 45,
   "id": "4bdd7346-88b3-4170-8a91-6003c12e3db0",
   "metadata": {
    "tags": []
   },
   "outputs": [],
   "source": [
    "import re\n",
    "def grades():\n",
    "    with open (\"assets/grades.txt\", \"r\") as file:\n",
    "        grades = file.read()\n",
    "        pattern = r'\\b([A-z][a-z]+\\s[A-Z][a-z]+):\\sB\\b'\n",
    "        return re.findall(pattern, grades)\n",
    "\n",
    "    # YOUR CODE HERE\n",
    "grades()\n",
    "#print(len(grades()))"
   ]
  },
  {
   "cell_type": "code",
   "execution_count": 46,
   "id": "cce22441-3aa4-41d8-a674-90d01b18632d",
   "metadata": {},
   "outputs": [],
   "source": [
    "assert len(grades()) ==16"
   ]
  },
  {
   "cell_type": "raw",
   "id": "3ab45116-0029-4dd3-b67d-5fdb04670570",
   "metadata": {},
   "source": [
    "This pattern is a regular expression that matches a string with the following characteristics:\n",
    "\n",
    "It begins with a word boundary (\\b).\n",
    "\n",
    "The first word is one or more lowercase letters ([A-z][a-z]+).\n",
    "\n",
    "This first word is followed by a space (\\s).\n",
    "\n",
    "The second word is an uppercase letter followed by one or more lowercase letters ([A-Z][a-z]+).\n",
    "\n",
    "The first two words are captured as a group within parentheses (([A-z][a-z]+\\s[A-Z][a-z]+)).\n",
    "\n",
    "This second word is followed by a colon and a space (:\\s).\n",
    "\n",
    "The final letter is the uppercase letter \"B\" (B).\n",
    "\n",
    "The string ends with a word boundary (\\b).\n",
    "\n",
    "So this regular expression pattern is specifically designed to match a string that represents a name followed by a colon and a space, and then the letter \"B\". In addition, the regular expression captures the first and last name of the student as a group, which can be used later in the code. For example, it would match strings like \"John Smith: B\" and capture the name \"John Smith\" in the group.\n",
    "\n",
    "The re.findall() function is then used to search the contents of the file for all occurrences of the pattern and return a list of all matches. This list is then returned by the function grades().\n",
    "\n",
    "Overall, the purpose of this code is to find all the names of students who received a grade of \"B\" in a particular class (assuming that the grades are listed in the file in the format of \"name: grade\"). The length of the resulting list of matches is printed to the console. The regular expression pattern used in this code is more flexible than the one used in the previous example because it captures the names of the students as well as the grade. This allows the names to be used later in the code for additional processing or analysis."
   ]
  },
  {
   "cell_type": "code",
   "execution_count": 41,
   "id": "531affed-6ffa-4e28-92a7-3fb4838e3da5",
   "metadata": {},
   "outputs": [
    {
     "name": "stdout",
     "output_type": "stream",
     "text": [
      "['cat']\n"
     ]
    }
   ],
   "source": [
    "import re\n",
    "pattern = r'\\bcat\\b'\n",
    "string = \"The cat sat on the mat, Cat, cattle\"\n",
    "result = re.findall(pattern,string)\n",
    "print(result)"
   ]
  },
  {
   "cell_type": "raw",
   "id": "5dd12e61-cfb6-4eac-8ffa-f961db473b7c",
   "metadata": {},
   "source": [
    "This pattern matches the exact word \"cat\". The \\b at the beginning and end of the pattern ensure that \"cat\" is not part of a longer word, but rather is a standalone word. Here are some examples of what this pattern would and would not match:\n",
    "\n",
    "\"The cat sat on the mat\": The pattern would match the word \"cat\" because it is a standalone word surrounded by word boundaries.\n",
    "\n",
    "\"Cat\": The pattern would not match \"Cat\" because it is uppercase \"C\".\n",
    "\n",
    "\"cattle\": The pattern would not match \"cattle\" because it is not the exact word \"cat\", but rather a longer word that includes \"cat\".\n",
    "\n",
    "In general, the \\b word boundary is useful when you want to match only exact words and not partial matches within longer words."
   ]
  },
  {
   "cell_type": "raw",
   "id": "2c9b7989-7f01-42a0-9ca7-e0410c3d5103",
   "metadata": {},
   "source": [
    "In regular expressions, the word boundary \\b matches the position between a word character (as defined by the \\w character class) and a non-word character (anything that is not a word character), or between a word character and the start or end of a string.\n",
    "\n",
    "For example, consider the following regular expression pattern:"
   ]
  },
  {
   "cell_type": "raw",
   "id": "1476c754-e1bd-4095-960f-3e32135b5d91",
   "metadata": {},
   "source": [
    "The \"r\" in a regular expression in Python stands for \"raw\", which means that any backslashes in the regular expression are treated as literal backslashes instead of being interpreted as escape sequences.\n",
    "\n",
    "In general, it is a good practice to use the \"r\" prefix with regular expressions in Python to avoid issues with backslashes and escape sequences."
   ]
  },
  {
   "cell_type": "code",
   "execution_count": 42,
   "id": "91116178-df8d-426e-99cf-0c830e8cce5b",
   "metadata": {},
   "outputs": [
    {
     "name": "stdout",
     "output_type": "stream",
     "text": [
      "Ronald Mayr: A\n",
      "\n",
      "Bell Kassulke: B\n",
      "\n",
      "Jacqueline Rupp: A \n",
      "\n",
      "Alexander Zeller: C\n",
      "\n",
      "Valentina Denk: C \n",
      "\n"
     ]
    }
   ],
   "source": [
    "# Lets take a look at the first five persons and their grades\n",
    "with open (\"assets/grades.txt\", \"r\") as file:\n",
    "    for i in range(5):\n",
    "        line = file.readline()\n",
    "        print(line)"
   ]
  },
  {
   "cell_type": "markdown",
   "id": "718e329d-1960-4341-92d2-54e3425bda68",
   "metadata": {},
   "source": [
    "## Part C\n",
    "\n",
    "Consider the standard web log file in [assets/logdata.txt](assets/logdata.txt). This file records the access a user makes when visiting a web page (like this one!). Each line of the log has the following items:\n",
    "\n",
    "* a host (e.g., '146.204.224.152') \n",
    "* a user_name (e.g., 'feest6811' **note: sometimes the user name is missing! In this case, use '-' as the value for the username.**)\n",
    "* the time a request was made (e.g., '21/Jun/2019:15:45:24 -0700')\n",
    "* the post request type (e.g., 'POST /incentivize HTTP/1.1' **note: not everything is a POST!**)\n",
    "\n",
    "Your task is to convert this into a list of dictionaries, where each dictionary looks like the following:\n",
    "```\n",
    "example_dict = {\"host\":\"146.204.224.152\", \n",
    "                \"user_name\":\"feest6811\", \n",
    "                \"time\":\"21/Jun/2019:15:45:24 -0700\",\n",
    "                \"request\":\"POST /incentivize HTTP/1.1\"}\n",
    "```"
   ]
  },
  {
   "cell_type": "raw",
   "id": "381a9e4f-725e-455a-83ec-653746ca9bd5",
   "metadata": {},
   "source": [
    "146.204.224.152 - feest6811 [21/Jun/2019:15:45:24 -0700] \"POST /incentivize HTTP/1.1\" 302 4622\n",
    "197.109.77.178 - kertzmann3129 [21/Jun/2019:15:45:25 -0700] \"DELETE /virtual/solutions/target/web+services HTTP/2.0\" 203 26554"
   ]
  },
  {
   "cell_type": "code",
   "execution_count": 51,
   "id": "40ffd039-0bbb-4b75-a2dc-294ec0d38c43",
   "metadata": {},
   "outputs": [
    {
     "name": "stdout",
     "output_type": "stream",
     "text": [
      "146.204.224.152 - feest6811 [21/Jun/2019:15:45:24 -0700] \"POST /incentivize HTTP/1.1\" 302 4622\n",
      "\n",
      "197.109.77.178 - kertzmann3129 [21/Jun/2019:15:45:25 -0700] \"DELETE /virtual/solutions/target/web+services HTTP/2.0\" 203 26554\n",
      "\n",
      "156.127.178.177 - okuneva5222 [21/Jun/2019:15:45:27 -0700] \"DELETE /interactive/transparent/niches/revolutionize HTTP/1.1\" 416 14701\n",
      "\n",
      "100.32.205.59 - ortiz8891 [21/Jun/2019:15:45:28 -0700] \"PATCH /architectures HTTP/1.0\" 204 6048\n",
      "\n",
      "168.95.156.240 - stark2413 [21/Jun/2019:15:45:31 -0700] \"GET /engage HTTP/2.0\" 201 9645\n",
      "\n"
     ]
    }
   ],
   "source": [
    "with open (\"assets/logdata.txt\", \"r\") as file:\n",
    "    for i in range(5):\n",
    "        line = file.readline()\n",
    "        print(line)"
   ]
  },
  {
   "cell_type": "code",
   "execution_count": 158,
   "id": "d066f111-3818-40f5-9ea6-411652a2e346",
   "metadata": {
    "tags": []
   },
   "outputs": [
    {
     "name": "stdout",
     "output_type": "stream",
     "text": [
      "Number of log entries: 979\n",
      "True\n",
      "Number of log entries: 979\n",
      "True\n"
     ]
    }
   ],
   "source": [
    "import re\n",
    "\n",
    "def logs():\n",
    "    with open(\"assets/logdata.txt\", \"r\") as file:\n",
    "        logdata = file.read()\n",
    "    \n",
    "    # YOUR CODE HERE\n",
    "    pattern = \"\"\"\n",
    "    (?P<host>\\d+.\\d+.\\d+.\\d+)     #The (?P<host>...) syntax creates a named capture group called \"host\" that captures the matched IP address.\n",
    "    (\\s-\\s)\n",
    "    (?P<user_name>[\\w-]+)         #\n",
    "    (\\s)\n",
    "    \\[(?P<time>.*?)\\]\n",
    "    (\\s\")\n",
    "    (?P<request>.*?)\n",
    "    (\\\")    \n",
    "    \"\"\"\n",
    "    \n",
    "    results=[]\n",
    "    for item in re.finditer(pattern,logdata,re.VERBOSE):\n",
    "        results.append(item.groupdict())\n",
    "        \n",
    "    print(f\"Number of log entries: {len(results)}\")\n",
    "    print(one_item in results) # added print statement to check if one_item is in results\n",
    "    return results\n",
    "\n",
    "one_item={'host': '146.204.224.152',\n",
    "'user_name': 'feest6811',\n",
    "'time': '21/Jun/2019:15:45:24 -0700',\n",
    "'request': 'POST /incentivize HTTP/1.1'}\n",
    "assert len(logs()) == 979\n",
    "assert one_item in logs(), \"Sorry, this item should be in the log results, check your formating\""
   ]
  },
  {
   "cell_type": "markdown",
   "id": "047310ea-cf64-4b20-93ff-543405bcd35f",
   "metadata": {},
   "source": [
    "# Regex Breakdown "
   ]
  },
  {
   "cell_type": "raw",
   "id": "39c3a128-f029-44bf-b82e-865111bf0428",
   "metadata": {},
   "source": [
    "The regex pattern in this code is designed to extract specific pieces of information from log data. Here's a detailed breakdown of how it works:\n",
    "\n",
    "(?P<host>\\d+.\\d+.\\d+.\\d+)     # The (?P<host>...) syntax creates a named capture group called \"host\" that captures the matched IP address.\n",
    "(\\s-\\s)                       # Matches the space-dash-space sequence between host and user_name.\n",
    "(?P<user_name>[\\w-]+)         # Captures the matched user name.\n",
    "(\\s)                          # Matches the space between user_name and time.\n",
    "\\[(?P<time>.*?)\\]             # Captures the matched time stamp between square brackets.\n",
    "(\\s\")                         # Matches the space-double quote sequence between time and request.\n",
    "(?P<request>.*?)             # Captures the matched request string.\n",
    "(\\\")                         # Matches the closing double quote after request string.\n"
   ]
  },
  {
   "cell_type": "raw",
   "id": "2cf225e9-9f40-485a-929c-156bbe5691b9",
   "metadata": {},
   "source": [
    "(?P<host>\\d+.\\d+.\\d+.\\d+) creates a named capture group called \"host\" that captures the matched IP address, which is a sequence of one or more digits separated by periods.\n",
    "\n",
    "(\\s-\\s) matches a space-dash-space sequence between the IP address and the user name.\n",
    "\n",
    "(?P<user_name>[\\w-]+) captures the matched user name, which consists of one or more word characters (letters, digits, or underscores) or hyphens.\n",
    "\n",
    "(\\s) matches a space between the user name and the time stamp.\n",
    "\n",
    "\\[(?P<time>.*?)\\] captures the matched time stamp between square brackets. The .*? matches any character zero or more times, but as few times as possible, which is a non-greedy match.\n",
    "\n",
    "(\\s\") matches a space-double quote sequence between the time stamp and the request string.\n",
    "\n",
    "(?P<request>.*?) captures the matched request string, which can consist of any characters, but again, the .*? is non-greedy, so it will stop matching as soon as it reaches the closing double quote.\n",
    "\n",
    "(\\\") matches the closing double quote after the request string.\n",
    "\n",
    "The re.finditer() method is then used to apply the regex pattern to the log data and extract all the matching log entries. Each log entry is represented as a dictionary of key-value pairs that correspond to the named capture groups defined in the regex pattern. The item.groupdict() method is used to convert the captured groups into a dictionary, which is then appended to the results list. Finally, the function returns the results list, which contains all the log entries that matched the pattern."
   ]
  },
  {
   "cell_type": "raw",
   "id": "8e435bd4-7c91-4349-915d-323a6325d12a",
   "metadata": {},
   "source": [
    "If you put the backslash outside the brackets in a regular expression pattern, it will try to match the backslash character followed by the characters inside the brackets. For example, the pattern r'\\[w-]+\\b' will match one or more occurrences of the characters 'w', '-' or backslash '', followed by a word boundary.\n",
    "\n",
    "In your specific example, the pattern r'(?P<user_name>\\[w-]+)' is trying to match one or more occurrences of the characters 'w', '-' or backslash '', but it's looking for them inside a named capturing group called \"user_name\". The problem with this pattern is that it's not matching any actual usernames in your data file, which is why you're getting an empty list."
   ]
  },
  {
   "cell_type": "markdown",
   "id": "9e06a60b-567a-4383-ba9b-7eda8f79b65e",
   "metadata": {},
   "source": [
    "# Explain this regex in detail "
   ]
  },
  {
   "cell_type": "raw",
   "id": "52dae872-e586-459b-b59d-6d5df83b63bd",
   "metadata": {},
   "source": [
    "\\[(?P<time>.*?)\\]"
   ]
  },
  {
   "cell_type": "raw",
   "id": "b91eb905-e3c2-4613-8120-559c4962d093",
   "metadata": {},
   "source": [
    "This is a regular expression that matches a string enclosed in square brackets and captures the contents inside the brackets as a named group called \"time\".\n",
    "\n",
    "Here's a breakdown of the pattern:\n",
    "\n",
    "\\[: matches a literal opening square bracket\n",
    "\n",
    "(?P<time>: starts a named group called \"time\"\n",
    "\n",
    ".*?: matches any character (except for newline characters) zero or more times, but as few times as possible (lazy matching), because of the ? character.\n",
    "\n",
    "): ends the named group\n",
    "\n",
    "\\]: matches a literal closing square bracket\n",
    "\n",
    "So, the overall pattern matches a string that starts with an opening square bracket, followed by any characters inside the brackets, and ends with a closing square bracket. The contents inside the brackets are captured as a named group called \"time\"."
   ]
  },
  {
   "cell_type": "code",
   "execution_count": 155,
   "id": "d6e9878c-e3b6-4e7e-8912-799f7e949dec",
   "metadata": {
    "tags": []
   },
   "outputs": [
    {
     "name": "stdout",
     "output_type": "stream",
     "text": [
      "Number of log entries: 979\n",
      "True\n",
      "Number of log entries: 979\n",
      "True\n"
     ]
    }
   ],
   "source": [
    "assert len(logs()) == 979\n",
    "one_item={'host': '146.204.224.152',\n",
    "  'user_name': 'feest6811',\n",
    "  'time': '21/Jun/2019:15:45:24 -0700',\n",
    "  'request': 'POST /incentivize HTTP/1.1'}\n",
    "assert one_item in logs(), \"Sorry, this item should be in the log results, check your formating\""
   ]
  },
  {
   "cell_type": "raw",
   "id": "052135a8-822b-4abc-8f83-812e482c3279",
   "metadata": {},
   "source": [
    "pattern=\"\"\"\n",
    "(?P<host>\\d+\\.\\d+\\.\\d+\\.\\d+)\n",
    "(\\s\\-\\s)\n",
    "(?P<user_name>[\\w-]+)\n",
    "(\\s)\n",
    "\\[(?P<time>\\w*/\\w*/.*])\n",
    "(\\s\")\n",
    "(?P<request>[^\"]+)\n",
    "\"\n",
    "\"\"\"\n",
    "result=[]\n",
    "for item in re.finditer(pattern,logdata,re.VERBOSE):\n",
    "    result.append(item.groupdict())\n",
    "    print(item.groupdict())"
   ]
  },
  {
   "cell_type": "code",
   "execution_count": null,
   "id": "19ff9cf9-bdf9-477b-a49f-b3b88e001f0a",
   "metadata": {},
   "outputs": [],
   "source": []
  }
 ],
 "metadata": {
  "kernelspec": {
   "display_name": "Python 3 (ipykernel)",
   "language": "python",
   "name": "python3"
  },
  "language_info": {
   "codemirror_mode": {
    "name": "ipython",
    "version": 3
   },
   "file_extension": ".py",
   "mimetype": "text/x-python",
   "name": "python",
   "nbconvert_exporter": "python",
   "pygments_lexer": "ipython3",
   "version": "3.8.10"
  }
 },
 "nbformat": 4,
 "nbformat_minor": 5
}
