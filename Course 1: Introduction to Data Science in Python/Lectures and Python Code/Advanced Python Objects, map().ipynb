{
 "cells": [
  {
   "cell_type": "markdown",
   "id": "98a17f3a-a2e5-4808-9ed6-67d0b4b4ef50",
   "metadata": {},
   "source": [
    "# The Python Programming Language: Advanced Python Objects, map()"
   ]
  },
  {
   "cell_type": "code",
   "execution_count": 4,
   "id": "82a1b0bc-7c6d-4c33-b0d9-26ee94c715b1",
   "metadata": {},
   "outputs": [],
   "source": [
    "# This is a basic class def. for a 'Person' class in python. \n",
    "# The class has two class-level attributes:\n",
    "\n",
    "# 1. 'department': A set string 'School of Information'\n",
    "# 2. 'set_name' and 'set_location' are methods which take two arguments, \n",
    "    # self and new_name/new_location respectively.\n",
    "    \n",
    "# 'self' is a reference to the instance of the class, and it is used to access the attributes and\n",
    "# methods of the class. The set_name method takes one argument, new_name, \n",
    "# and assigns it to the name attribute of the instance using self.name = new_name. \n",
    "\n",
    "# Similarly, the set_location method takes one argument, new_location, and assigns it to the \n",
    "# location attribute of the instance using self.location = new_location\n",
    "\n",
    "# department attribute is a class attribute which means that it is shared among all instances of \n",
    "# the class, while name and location are instance level attributes, they will be unique to each \n",
    "# instance of the class.\n",
    "#department attribute is a class attribute which means that it is shared among all instances of \n",
    "#the class, while name and location are instance level attributes, they will be unique to each \n",
    "#instance of the class.\n",
    "class Person:\n",
    "    department = 'School of Information'\n",
    "    \n",
    "    def set_name(self, new_name):\n",
    "        self.name = new_name\n",
    "    def set_location(self, new_location):\n",
    "        self.location = new_location\n",
    "        "
   ]
  },
  {
   "cell_type": "code",
   "execution_count": 5,
   "id": "8f5d9299-265e-44e8-a7e2-dcb05e7c21a5",
   "metadata": {},
   "outputs": [
    {
     "name": "stdout",
     "output_type": "stream",
     "text": [
      "Christopher Brooks live in Ann Arbor, MI, USA and works in the department School of Information\n"
     ]
    }
   ],
   "source": [
    "# This code creates an instance of the Person class called person, and assigns it to the variable \n",
    "# person.\n",
    "person = Person()\n",
    "# Then it calls the set_name method on the person instance, passing in the string \n",
    "# 'Christopher Brooks' as the argument for the new_name parameter. This sets the name attribute \n",
    "# of the person instance to 'Christopher Brooks'.\n",
    "person.set_name('Christopher Brooks')\n",
    "# It then calls the set_location method on the person instance, passing in the string 'Ann Arbor, \n",
    "# MI, USA' as the argument for the new_location parameter. This sets the location attribute of \n",
    "# the person instance to 'Ann Arbor, MI, USA'.\n",
    "person.set_location('Ann Arbor, MI, USA')\n",
    "#Finally, it uses the print function to output a string that interpolates the values of the name, \n",
    "# location, and department attributes of the person instance using the format() method. \n",
    "#The output will be :\n",
    "#\"Christopher Brooks live in Ann Arbor, MI, USA and works in the department School of Information\"\n",
    "print('{} live in {} and works in the department {}'.format(person.name, person.location,person.department))\n",
    "#The department attribute is a class attribute, so it is shared among all instances of the class, \n",
    "#while name and location are instance level attributes, they will be unique to each instance of \n",
    "#the class."
   ]
  },
  {
   "cell_type": "code",
   "execution_count": 7,
   "id": "81a7206f-e001-4f28-aefc-c3612ee63cbb",
   "metadata": {},
   "outputs": [],
   "source": [
    "#Creating an instance of a class in Python means creating an object that belongs to a class and \n",
    "#has access to the attributes and methods defined in that class. An instance is also known as an \n",
    "#object, and it is a specific realization of a class.\n",
    "#When an instance of a class is created, Python calls the class's special method called __init__. \n",
    "#This method is responsible for initializing the attributes of the class and it is executed when \n",
    "#a new instance is created.\n",
    "#In the example above, person = Person() creates an instance of the Person class and assigns it \n",
    "#to the variable person. This new object is created in memory and has access to the attributes \n",
    "#and methods of the Person class. Once the object is created, it can be used to set or get the \n",
    "#value of the class attributes or call the class methods.\n",
    "#Creating an instance of a class allows us to have multiple objects that have the same \n",
    "#characteristics (attributes and methods) but different values for those characteristics. #\n",
    "#That way, we can use the same class multiple times and still have different objects that represent different real-world entities."
   ]
  },
  {
   "cell_type": "code",
   "execution_count": 6,
   "id": "3a5a5e4b-eb7f-4886-9416-86b6583f4e96",
   "metadata": {},
   "outputs": [
    {
     "data": {
      "text/plain": [
       "<map at 0x7fdf26ec4940>"
      ]
     },
     "execution_count": 6,
     "metadata": {},
     "output_type": "execute_result"
    }
   ],
   "source": [
    "#This code creates two lists called store1 and store2, which hold different prices. \n",
    "#Then it creates a variable cheapest which holds the result of the map() function.\n",
    "\n",
    "#map(min, store1, store2) applies the min() function to each element of the store1 and store2 \n",
    "#lists. The min() function returns the minimum value between two numbers, so it will return the \n",
    "#lowest price of the corresponding element in store1 and store2. The map() function applies the \n",
    "#min function element-wise to the two lists and returns an iterator that generates the \n",
    "#minimum values of the two lists.\n",
    "store1 = [10.00, 11.00, 12.34, 2.34]\n",
    "store2 = [9.00, 11.10, 12.34, 2.01]\n",
    "#cheapest variable holds the iterator returned by the map() function. To see the result, you \n",
    "#could use list(cheapest) to convert the iterator to a list.\n",
    "cheapest = map(min, store1,store2)\n",
    "cheapest\n",
    "#Note that the map() function returns an iterator, which means that it does not store the \n",
    "#results in memory, but generates them on the fly when iterated. So if you want to use the \n",
    "#results multiple times, it's better to convert the iterator to a list or tuple."
   ]
  },
  {
   "cell_type": "markdown",
   "id": "0589d98d-72ea-43f1-9479-b793257412c4",
   "metadata": {},
   "source": [
    "# Here is a list of faculty teaching this MOOC. Can you write a function and apply it using map() to get a list of all faculty titles and last names (e.g. ['Dr. Brooks', 'Dr. Collins-Thompson', …]) ?"
   ]
  },
  {
   "cell_type": "code",
   "execution_count": 8,
   "id": "17f60361-b163-4cd9-8765-09cf8b8b2e1e",
   "metadata": {},
   "outputs": [
    {
     "data": {
      "text/plain": [
       "[['Dr.', ' Christopher Brooks'],\n",
       " ['Dr.', ' Kevyn Collins-Thompson'],\n",
       " ['Dr.', ' VG Vinod Vydiswaran'],\n",
       " ['Dr.', ' Daniel Romero']]"
      ]
     },
     "execution_count": 8,
     "metadata": {},
     "output_type": "execute_result"
    }
   ],
   "source": [
    "#This code imports the re module, which provides support for regular expressions. \n",
    "#Then it defines a function called split_title_and_name that takes in a parameter person.\n",
    "import re\n",
    "def split_title_and_name(person):\n",
    "#The function uses the re.split() method to split the person string at the first occurrence of \n",
    "#the regular expression r'(Dr\\.)'. The regular expression r'(Dr\\.)' is used to match the string \n",
    "#'Dr.' and the parentheses around it creates a group, so that the matched string is included in \n",
    "#the resulting list of strings. Then the function uses slicing [1:] to exclude the first element \n",
    "#of the list, which is the title.\n",
    "    return re.split(r'(Dr\\.)',person)[1:]\n",
    "#Then it defines a list of people and applies the split_title_and_name function to each element \n",
    "#of the list using the map() function, which returns an iterator over the results. Finally, it \n",
    "#converts the iterator to a list using the list() function to get the final list of faculty titles\n",
    "#and last names.\n",
    "people = ['Dr. Christopher Brooks', 'Dr. Kevyn Collins-Thompson', 'Dr. VG Vinod Vydiswaran', 'Dr. Daniel Romero']\n",
    "list(map(split_title_and_name, people))\n"
   ]
  },
  {
   "cell_type": "code",
   "execution_count": 10,
   "id": "2a844137-e262-4793-91e8-d9b7e1f8f97d",
   "metadata": {},
   "outputs": [
    {
     "data": {
      "text/plain": [
       "['Dr. Brooks', 'Dr. Collins-Thompson', 'Dr. Vydiswaran', 'Dr. Romero']"
      ]
     },
     "execution_count": 10,
     "metadata": {},
     "output_type": "execute_result"
    }
   ],
   "source": [
    "people = ['Dr. Christopher Brooks', 'Dr. Kevyn Collins-Thompson', 'Dr. VG Vinod Vydiswaran', 'Dr. Daniel Romero']\n",
    "\n",
    "def split_title_and_name(person):\n",
    "    title = person.split()[0]\n",
    "    lastname = person.split()[-1]\n",
    "    return '{} {}'.format(title,lastname)\n",
    "\n",
    "list(map(split_title_and_name, people))"
   ]
  },
  {
   "cell_type": "code",
   "execution_count": 12,
   "id": "b8f311b9-e108-4544-a771-a45dc7f65357",
   "metadata": {},
   "outputs": [
    {
     "data": {
      "text/plain": [
       "[('Dr.', 'Brooks'),\n",
       " ('Dr.', 'Collins-Thompson'),\n",
       " ('Dr.', 'Vydiswaran'),\n",
       " ('Dr.', 'Romero')]"
      ]
     },
     "execution_count": 12,
     "metadata": {},
     "output_type": "execute_result"
    }
   ],
   "source": [
    "people = ['Dr. Christopher Brooks', 'Dr. Kevyn Collins-Thompson', 'Dr. VG Vinod Vydiswaran', 'Dr. Daniel Romero']\n",
    "#If you want the title and last name returned individually, you can modify the function \n",
    "#split_title_and_name as follows:\n",
    "def split_title_and_name(person):\n",
    "    title = person.split()[0]\n",
    "    lastname = person.split()[-1]\n",
    "    #return '{} {}'.format(title,lastname)\n",
    "    return title, lastname\n",
    "\n",
    "list(map(split_title_and_name, people))"
   ]
  },
  {
   "cell_type": "code",
   "execution_count": null,
   "id": "7ec2b0ba-0d9a-47de-8c69-b19484b3186d",
   "metadata": {},
   "outputs": [],
   "source": []
  }
 ],
 "metadata": {
  "kernelspec": {
   "display_name": "Python 3 (ipykernel)",
   "language": "python",
   "name": "python3"
  },
  "language_info": {
   "codemirror_mode": {
    "name": "ipython",
    "version": 3
   },
   "file_extension": ".py",
   "mimetype": "text/x-python",
   "name": "python",
   "nbconvert_exporter": "python",
   "pygments_lexer": "ipython3",
   "version": "3.8.10"
  }
 },
 "nbformat": 4,
 "nbformat_minor": 5
}
