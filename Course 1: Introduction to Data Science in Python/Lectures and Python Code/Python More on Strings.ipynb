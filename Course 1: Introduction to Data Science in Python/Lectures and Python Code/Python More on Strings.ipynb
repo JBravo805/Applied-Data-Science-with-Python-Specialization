{
 "cells": [
  {
   "cell_type": "markdown",
   "id": "653d1dfe-5058-4ce9-9ab6-0b763ea88c3c",
   "metadata": {},
   "source": [
    "The Python Programming Language: More on Strings"
   ]
  },
  {
   "cell_type": "code",
   "execution_count": 3,
   "id": "66d9f007-73d3-47c7-91d1-6c571eea1cf9",
   "metadata": {},
   "outputs": [
    {
     "name": "stdout",
     "output_type": "stream",
     "text": [
      "Jose bought 4 item(s) at a price of 3.24 each for a total of 12.96\n"
     ]
    }
   ],
   "source": [
    "sales_record = {'price': 3.24,\n",
    "                'num_items': 4,\n",
    "                'person':'Jose'}\n",
    "sales_statement = '{} bought {} item(s) at a price of {} each for a total of {}'\n",
    "\n",
    "print(sales_statement.format(sales_record['person'],\n",
    "                             sales_record['num_items'],\n",
    "                             sales_record['price'],\n",
    "                             sales_record['price'] * sales_record['num_items']))"
   ]
  },
  {
   "cell_type": "code",
   "execution_count": null,
   "id": "3dc3040b-6a63-4283-8f3f-b0d738544e28",
   "metadata": {},
   "outputs": [],
   "source": []
  }
 ],
 "metadata": {
  "kernelspec": {
   "display_name": "Python 3 (ipykernel)",
   "language": "python",
   "name": "python3"
  },
  "language_info": {
   "codemirror_mode": {
    "name": "ipython",
    "version": 3
   },
   "file_extension": ".py",
   "mimetype": "text/x-python",
   "name": "python",
   "nbconvert_exporter": "python",
   "pygments_lexer": "ipython3",
   "version": "3.8.10"
  }
 },
 "nbformat": 4,
 "nbformat_minor": 5
}
