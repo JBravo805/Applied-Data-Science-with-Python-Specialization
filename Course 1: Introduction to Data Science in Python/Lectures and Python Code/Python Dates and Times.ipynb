{
 "cells": [
  {
   "cell_type": "markdown",
   "id": "ab461de2-f7e3-463a-a064-924b289ba8c8",
   "metadata": {},
   "source": [
    "# The python programming language: Dates and Times"
   ]
  },
  {
   "cell_type": "code",
   "execution_count": 1,
   "id": "9c6f6462-0308-40ee-a0fc-4b4c1831406f",
   "metadata": {},
   "outputs": [],
   "source": [
    "import datetime as dt\n",
    "import time as tm"
   ]
  },
  {
   "cell_type": "code",
   "execution_count": 2,
   "id": "4f3128f1-31c2-4074-80fe-ba3c8fe35ecb",
   "metadata": {},
   "outputs": [
    {
     "data": {
      "text/plain": [
       "1673746572.7890627"
      ]
     },
     "execution_count": 2,
     "metadata": {},
     "output_type": "execute_result"
    }
   ],
   "source": [
    "# A function that returns the current time in seconds since the epoch(Predefined point in time\n",
    "# usually the beginning of the year 1970. \n",
    "tm.time()"
   ]
  },
  {
   "cell_type": "code",
   "execution_count": 4,
   "id": "5b99a92b-d61d-46e0-b187-934e8bcb4b85",
   "metadata": {},
   "outputs": [
    {
     "data": {
      "text/plain": [
       "datetime.datetime(2023, 1, 15, 1, 38, 50, 119752)"
      ]
     },
     "execution_count": 4,
     "metadata": {},
     "output_type": "execute_result"
    }
   ],
   "source": [
    "# This line of code creates a datime object from a timestamp(seconds since epoch) represented by\n",
    "# tm.time().\n",
    "# The 'datetime' module has a method called 'fromtimestamp()' which takes a timestamp as an arg.\n",
    "# and returns a datetime object representing the date and time specified by timestamp\n",
    "# 'datetime': A class within the datetime module\n",
    "# 'fromtimestamp()': A class method, so it is called on the class itself\n",
    "# 'tm.time'()': Function used to get the current time in seconds\n",
    "# Creates a datetime obj. representing the current date and time\n",
    "dtnow = dt.datetime.fromtimestamp(tm.time())\n",
    "dtnow"
   ]
  },
  {
   "cell_type": "code",
   "execution_count": 5,
   "id": "fddeff36-2011-4e98-a59f-c4e8baab240e",
   "metadata": {},
   "outputs": [
    {
     "data": {
      "text/plain": [
       "(2023, 1, 15, 1, 38, 50)"
      ]
     },
     "execution_count": 5,
     "metadata": {},
     "output_type": "execute_result"
    }
   ],
   "source": [
    "dtnow.year, dtnow.month, dtnow.day, dtnow.hour, dtnow.minute, dtnow.second"
   ]
  },
  {
   "cell_type": "code",
   "execution_count": 8,
   "id": "50c57cfa-7073-4e90-bd5b-cb188f7b6e8e",
   "metadata": {},
   "outputs": [
    {
     "data": {
      "text/plain": [
       "datetime.timedelta(days=100)"
      ]
     },
     "execution_count": 8,
     "metadata": {},
     "output_type": "execute_result"
    }
   ],
   "source": [
    "# This line of code creates a timedelta obj. representing a duration of 100 days and assigns\n",
    "# Can be used to perform arithmetic operations with datetime object like adding or subtracting\n",
    "# it to find a date 100 days in future or past.\n",
    "delta = dt.timedelta(days=100)\n",
    "delta "
   ]
  },
  {
   "cell_type": "code",
   "execution_count": 9,
   "id": "f84168be-f96d-4e03-a137-5634026b38b1",
   "metadata": {},
   "outputs": [],
   "source": [
    "# datetime has a class called date which is used to rep. a date (year, month, day) w/out time\n",
    "# today: A class method of date class, which returns the current date\n",
    "# So, dt.date: a class w/in datetime module and today is class method, so it is called on the class itself\n",
    "today = dt.date.today()"
   ]
  },
  {
   "cell_type": "code",
   "execution_count": 11,
   "id": "faea9fc7-73ab-4e8a-ba42-07c2a90b94ad",
   "metadata": {},
   "outputs": [
    {
     "data": {
      "text/plain": [
       "datetime.date(2023, 1, 15)"
      ]
     },
     "execution_count": 11,
     "metadata": {},
     "output_type": "execute_result"
    }
   ],
   "source": [
    "today"
   ]
  },
  {
   "cell_type": "code",
   "execution_count": 10,
   "id": "7db2bafc-db4f-4776-96ab-9ff5300ad1d3",
   "metadata": {},
   "outputs": [
    {
     "data": {
      "text/plain": [
       "datetime.date(2022, 10, 7)"
      ]
     },
     "execution_count": 10,
     "metadata": {},
     "output_type": "execute_result"
    }
   ],
   "source": [
    "today - delta"
   ]
  },
  {
   "cell_type": "code",
   "execution_count": 12,
   "id": "92468045-0247-434b-858f-f8659782baad",
   "metadata": {},
   "outputs": [
    {
     "data": {
      "text/plain": [
       "True"
      ]
     },
     "execution_count": 12,
     "metadata": {},
     "output_type": "execute_result"
    }
   ],
   "source": [
    "# compares the date object representing todays date with the date object representing the date\n",
    "# that is 100 days ago\n",
    "today > today - delta"
   ]
  },
  {
   "cell_type": "code",
   "execution_count": null,
   "id": "5fb15c67-a0bf-413b-9e19-b0e160da80cd",
   "metadata": {},
   "outputs": [],
   "source": []
  }
 ],
 "metadata": {
  "kernelspec": {
   "display_name": "Python 3 (ipykernel)",
   "language": "python",
   "name": "python3"
  },
  "language_info": {
   "codemirror_mode": {
    "name": "ipython",
    "version": 3
   },
   "file_extension": ".py",
   "mimetype": "text/x-python",
   "name": "python",
   "nbconvert_exporter": "python",
   "pygments_lexer": "ipython3",
   "version": "3.8.10"
  }
 },
 "nbformat": 4,
 "nbformat_minor": 5
}
