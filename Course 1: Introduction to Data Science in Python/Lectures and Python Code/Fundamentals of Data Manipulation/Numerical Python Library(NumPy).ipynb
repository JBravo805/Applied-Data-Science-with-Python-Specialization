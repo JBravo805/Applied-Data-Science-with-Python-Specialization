{
 "cells": [
  {
   "cell_type": "markdown",
   "id": "8f210037-5041-4b42-b829-dbbf9602c3dc",
   "metadata": {},
   "source": [
    "Numpy is the fundamental package for numeric computing with Python. It provides powerful ways to create store and manipulate data, which makes it able to seamlessly and speedily integrate with a wide variety of databases and data formats. This is also the foundation that Pandas is built on which is a high performance data-centric package that we're going to learn more about in this course. In this lecture, we're going to talk about creating arrays with certain data types, manipulating arrays ,selecting elements from arrays and loading data sets into arrays. Such functions are useful for manipulating data and understanding the functionalities of other common python data packages."
   ]
  },
  {
   "cell_type": "code",
   "execution_count": 26,
   "id": "2a735e61-9f1d-42ef-9530-a4bf823b46cb",
   "metadata": {},
   "outputs": [],
   "source": [
    "# You'll recall that we import a library using the 'import' keyword as numpy's common abbreviation is np\n",
    "import numpy as np\n",
    "import math"
   ]
  },
  {
   "cell_type": "markdown",
   "id": "876d4ccd-f74e-4015-a3d9-d8dd4da63930",
   "metadata": {},
   "source": [
    "# Array Creation"
   ]
  },
  {
   "cell_type": "code",
   "execution_count": 27,
   "id": "44f5eaa2-8bb5-4de6-ab6d-b8a0303e2c40",
   "metadata": {},
   "outputs": [
    {
     "name": "stdout",
     "output_type": "stream",
     "text": [
      "[1 2 3]\n",
      "1\n"
     ]
    }
   ],
   "source": [
    "# Arrays are displayed as a list or list of lists and can be created through list as well. When creatin an\n",
    "# array, we pass in a list as an argument in a list as an argument in numpy array\n",
    "a = np.array([1,2,3])\n",
    "print(a)\n",
    "# We can print the number of dimensions of a list using the ndim attribute\n",
    "print(a.ndim)"
   ]
  },
  {
   "cell_type": "code",
   "execution_count": 28,
   "id": "2f47a168-903c-4afb-965c-b4bce6cabac8",
   "metadata": {},
   "outputs": [
    {
     "data": {
      "text/plain": [
       "array([[1, 2, 3],\n",
       "       [4, 5, 6]])"
      ]
     },
     "execution_count": 28,
     "metadata": {},
     "output_type": "execute_result"
    }
   ],
   "source": [
    "# If we pass in a list of lists in numpy array, we create a multi-dimensional array, for instance, a matrix\n",
    "b=np.array([[1,2,3],[4,5,6]])\n",
    "b"
   ]
  },
  {
   "cell_type": "code",
   "execution_count": 29,
   "id": "8da74cd2-e6a1-4bd0-b1b1-dee5f8dbdc30",
   "metadata": {},
   "outputs": [
    {
     "data": {
      "text/plain": [
       "(2, 3)"
      ]
     },
     "execution_count": 29,
     "metadata": {},
     "output_type": "execute_result"
    }
   ],
   "source": [
    "# We can print out the lenght of each dimension by calling the shape attribute, which returns a tuple\n",
    "b.shape"
   ]
  },
  {
   "cell_type": "code",
   "execution_count": 30,
   "id": "5e88b211-67a0-409d-a459-44025c5208b7",
   "metadata": {},
   "outputs": [
    {
     "data": {
      "text/plain": [
       "dtype('int64')"
      ]
     },
     "execution_count": 30,
     "metadata": {},
     "output_type": "execute_result"
    }
   ],
   "source": [
    "# WE can also check the type of items in the array\n",
    "a.dtype"
   ]
  },
  {
   "cell_type": "code",
   "execution_count": 31,
   "id": "370c9920-5242-49be-bdf7-8dedd05e260f",
   "metadata": {},
   "outputs": [
    {
     "data": {
      "text/plain": [
       "'float64'"
      ]
     },
     "execution_count": 31,
     "metadata": {},
     "output_type": "execute_result"
    }
   ],
   "source": [
    "# Besides integers, floats are also accepted in numpy arrays\n",
    "c = np.array([2.2,5,1.1])\n",
    "c.dtype.name"
   ]
  },
  {
   "cell_type": "code",
   "execution_count": 32,
   "id": "a950c9c8-4e43-4c88-a7b1-bb32e9ed05c2",
   "metadata": {},
   "outputs": [
    {
     "data": {
      "text/plain": [
       "array([2.2, 5. , 1.1])"
      ]
     },
     "execution_count": 32,
     "metadata": {},
     "output_type": "execute_result"
    }
   ],
   "source": [
    "#  Let's look at the data in our array\n",
    "c"
   ]
  },
  {
   "cell_type": "code",
   "execution_count": 33,
   "id": "be970200-251a-4989-a26d-8f3c0a74ff14",
   "metadata": {},
   "outputs": [
    {
     "name": "stdout",
     "output_type": "stream",
     "text": [
      "[[0. 0. 0.]\n",
      " [0. 0. 0.]]\n"
     ]
    }
   ],
   "source": [
    "# Note that numpy automatically converts integers, like 5 up to floats, since there is no loss of precision.\n",
    "# Numpy will try and give you the best data type format possible to keep your data types homogeneous, which \n",
    "# means all the same, in the array\n",
    "\n",
    "# Sometimes we know the shapre of an array that we want to create, but not what we want to be in it.\n",
    "# numpy offers several functions to create arrays with inital placeholders, such as zero's or one's.\n",
    "# Lets create two arrays, both the same shape but with different filler values\n",
    "d= np.zeros((2,3))\n",
    "print(d)"
   ]
  },
  {
   "cell_type": "code",
   "execution_count": 34,
   "id": "be05b2da-0f2b-4f0a-bddf-a360e9281c7f",
   "metadata": {},
   "outputs": [
    {
     "name": "stdout",
     "output_type": "stream",
     "text": [
      "[[1. 1. 1.]\n",
      " [1. 1. 1.]]\n"
     ]
    }
   ],
   "source": [
    "e = np.ones((2,3))\n",
    "print(e)"
   ]
  },
  {
   "cell_type": "code",
   "execution_count": 35,
   "id": "43a73b33-1c2a-4669-b495-d67d7c668357",
   "metadata": {},
   "outputs": [
    {
     "data": {
      "text/plain": [
       "array([[0.09563509, 0.51690414, 0.53750288],\n",
       "       [0.61748978, 0.7766706 , 0.43933554]])"
      ]
     },
     "execution_count": 35,
     "metadata": {},
     "output_type": "execute_result"
    }
   ],
   "source": [
    "# We can also generate an array with random numbers \n",
    "np.random.rand(2,3)"
   ]
  },
  {
   "cell_type": "code",
   "execution_count": 36,
   "id": "a2afb80b-a5c1-4809-8cc1-cc83cceb24ba",
   "metadata": {},
   "outputs": [],
   "source": [
    "# You'll see zero's, ones, and rand used quite often to create example arrays, especially in stack overflow\n",
    "# posts and other forums."
   ]
  },
  {
   "cell_type": "code",
   "execution_count": 37,
   "id": "20dda6fa-d808-4e61-99da-8dc856d3f27c",
   "metadata": {},
   "outputs": [
    {
     "data": {
      "text/plain": [
       "array([10, 12, 14, 16, 18, 20, 22, 24, 26, 28, 30, 32, 34, 36, 38, 40, 42,\n",
       "       44, 46, 48])"
      ]
     },
     "execution_count": 37,
     "metadata": {},
     "output_type": "execute_result"
    }
   ],
   "source": [
    "# We can also create a sequence of numbers in an array with the arrange function. \n",
    "#The first argument is the starting bound and the second argument is the ending bound and the \n",
    "#third argument is the difference between each consecutive number. \n",
    "#So, let's create an array of every even number from 10 inclusive to 50, exclusive. \n",
    "#So, f equals np.arrange, we're going to start at 10, we're going to end at 50\n",
    "f = np.arange(10,50,2)\n",
    "f"
   ]
  },
  {
   "cell_type": "code",
   "execution_count": 38,
   "id": "485c26b1-03cf-4f8c-a891-e4b79bb00182",
   "metadata": {},
   "outputs": [
    {
     "data": {
      "text/plain": [
       "array([0.        , 0.14285714, 0.28571429, 0.42857143, 0.57142857,\n",
       "       0.71428571, 0.85714286, 1.        , 1.14285714, 1.28571429,\n",
       "       1.42857143, 1.57142857, 1.71428571, 1.85714286, 2.        ])"
      ]
     },
     "execution_count": 38,
     "metadata": {},
     "output_type": "execute_result"
    }
   ],
   "source": [
    "# If we want to generate a sequence of floats, we use something called linspace. \n",
    "#In this function, the third argument isn't the difference between two numbers, but \n",
    "#it's the total number of items that you want to generate.\n",
    "np.linspace(0,2,15) # 15 numbers from 0 (inclusive) to 2 (inclusive)"
   ]
  },
  {
   "cell_type": "markdown",
   "id": "67d74b49-a07e-4e5a-a378-18ead0815f9c",
   "metadata": {},
   "source": [
    "# Array Operations"
   ]
  },
  {
   "cell_type": "code",
   "execution_count": 39,
   "id": "c1d15898-8431-4b62-a7df-4b9e1ad1493c",
   "metadata": {},
   "outputs": [],
   "source": [
    "#So, we can do many things on arrays, such as mathematical manipulation, addition, \n",
    "#subtraction, square, exponents, as well as Boolean arrays, which are binary values. \n",
    "#And we can also do matrix manipulations, such as product transpose, inverse and \n",
    "#so forth. \n",
    "#So, let's see some of these, arithmetic operators on arrays apply elementwise. \n",
    "#So let's create a couple of arrays, I'll create a is np.array."
   ]
  },
  {
   "cell_type": "code",
   "execution_count": 40,
   "id": "04095ba4-875b-4280-8e58-e7a8acf7a960",
   "metadata": {},
   "outputs": [
    {
     "name": "stdout",
     "output_type": "stream",
     "text": [
      "[ 9 18 27 36]\n",
      "[ 10  40  90 160]\n"
     ]
    }
   ],
   "source": [
    "a = np.array([10,20,30,40])\n",
    "b=np.array([1,2,3,4])\n",
    "\n",
    "# Now let's look at a minus b\n",
    "c = a-b\n",
    "print(c)\n",
    "# And \n",
    "d = a * b\n",
    "print(d)"
   ]
  },
  {
   "cell_type": "markdown",
   "id": "69e73f75-05f1-4aca-92f6-c1c5c520d388",
   "metadata": {},
   "source": [
    "So, with arithmetic manipulation, \n",
    "we can convert current data to the way we want it to be. \n",
    "So here's a real world problem that I faced. \n",
    "I moved down to the United States about six years ago from Canada. \n",
    "In Canada, we use Celsius for temperatures and \n",
    "my wife still hasn't converted to the US system, which uses Fahrenheit. \n",
    "With numpy I could easily convert a number of Fahrenheit values, say, \n",
    "the weather forecast to Celsius for her. \n",
    "So, let's create an array of typical Ann Arbor winter Fahrenheit values."
   ]
  },
  {
   "cell_type": "code",
   "execution_count": 41,
   "id": "95c149b9-06a7-4767-9264-c8f84f55da29",
   "metadata": {},
   "outputs": [
    {
     "data": {
      "text/plain": [
       "array([-17.22222222, -22.77777778, -20.        , -25.55555556,\n",
       "       -17.22222222])"
      ]
     },
     "execution_count": 41,
     "metadata": {},
     "output_type": "execute_result"
    }
   ],
   "source": [
    "farenheit = np.array([0,-10,-5,-15,0])\n",
    "\n",
    "# and the formula for conversion is ((F-32) * 5/9 = C)\n",
    "celcius = (farenheit - 31) * (5/9)\n",
    "celcius"
   ]
  },
  {
   "cell_type": "markdown",
   "id": "a8a91ac8-d8da-4eab-be68-28a1d8c42b87",
   "metadata": {},
   "source": [
    "Another useful and important manipulation is the Boolean array. \n",
    "We can apply an operator on an array and a Boolean array will be returned for \n",
    "any element in the original with true being emitted if it meets the condition. \n",
    "For instance, if we want to get a Boolean array to check the Celsius degrees that \n",
    "are greater than minus 20 degrees"
   ]
  },
  {
   "cell_type": "code",
   "execution_count": 42,
   "id": "4d717c11-6a62-4daa-afca-5a7f4c8d8d72",
   "metadata": {},
   "outputs": [
    {
     "data": {
      "text/plain": [
       "array([ True, False, False, False,  True])"
      ]
     },
     "execution_count": 42,
     "metadata": {},
     "output_type": "execute_result"
    }
   ],
   "source": [
    "celcius > -20"
   ]
  },
  {
   "cell_type": "markdown",
   "id": "38e11b4a-7718-4bd6-ab35-0298ca7b8623",
   "metadata": {},
   "source": [
    "Here's another example, we could use the modulus operator to check \n",
    "numbers in array to see if they're even,"
   ]
  },
  {
   "cell_type": "code",
   "execution_count": 43,
   "id": "cf8e6d0b-aa6a-47fb-b8a3-cd63d4823f19",
   "metadata": {},
   "outputs": [
    {
     "data": {
      "text/plain": [
       "array([False, False,  True, False, False])"
      ]
     },
     "execution_count": 43,
     "metadata": {},
     "output_type": "execute_result"
    }
   ],
   "source": [
    "celcius%2 ==0"
   ]
  },
  {
   "cell_type": "markdown",
   "id": "e40130f1-3d1c-4d26-bca9-63554de80da1",
   "metadata": {},
   "source": [
    "Beside elementwise manipulation, \n",
    "it's important to know that numpy supports matrix manipulation. \n",
    "Let's look at the matrix product, if we wanted to do elementwise product, \n",
    "we use the asterisk sign"
   ]
  },
  {
   "cell_type": "code",
   "execution_count": 44,
   "id": "24226015-428c-48ef-8cb3-7b9c9f1d559c",
   "metadata": {},
   "outputs": [
    {
     "name": "stdout",
     "output_type": "stream",
     "text": [
      "[[2 0]\n",
      " [0 4]]\n",
      "[[5 4]\n",
      " [3 4]]\n"
     ]
    }
   ],
   "source": [
    "A = np.array([[1,1],[0,1]])\n",
    "B = np.array([[2,0],[3,4]])\n",
    "print(A*B)\n",
    "\n",
    "#if we want to do matrix product, we use the @ sign or use the dot function\n",
    "print(A@B)"
   ]
  },
  {
   "cell_type": "markdown",
   "id": "6791a305-3913-4367-b8c8-bc7e4ecca0af",
   "metadata": {},
   "source": [
    "So, you don't have to worry about complex matrix operations for this course. \n",
    "But it's important to know that numpy is the underpinning of scientific computing \n",
    "libraries and Python. \n",
    "And that is capable of doing both element wise operations, so \n",
    "the asterisks as well as matrix level operations, so the @ sign. \n",
    "And there's more on this in subsequent courses. \n",
    "So a few more linear algebra concepts are worth layering in here. \n",
    "You might recall that the product of two matrices is only plausible when \n",
    "the inner dimensions of the two matrices are the same. \n",
    "The dimensions refer to the number of elements, both horizontal and \n",
    "vertical in the rendered matrices that you've been seeing here. \n",
    "So, we can use numpy to quickly see the shape of the matrix."
   ]
  },
  {
   "cell_type": "code",
   "execution_count": 45,
   "id": "2fd8750c-9013-479c-83bc-dbc035e28409",
   "metadata": {},
   "outputs": [
    {
     "data": {
      "text/plain": [
       "(2, 2)"
      ]
     },
     "execution_count": 45,
     "metadata": {},
     "output_type": "execute_result"
    }
   ],
   "source": [
    "A.shape"
   ]
  },
  {
   "cell_type": "markdown",
   "id": "b758870d-d213-4668-904c-a0e49a407a0f",
   "metadata": {},
   "source": [
    "When manipulating arrays of different types, the type of the resulting array \n",
    "will correspond to the more general of the two types. \n",
    "And this is called upcasting and you saw an example of that before, but \n",
    "let's see another one."
   ]
  },
  {
   "cell_type": "code",
   "execution_count": 46,
   "id": "07a31abe-5880-4ecd-9ea1-c9186ef9a844",
   "metadata": {},
   "outputs": [
    {
     "name": "stdout",
     "output_type": "stream",
     "text": [
      "int64\n",
      "float64\n"
     ]
    }
   ],
   "source": [
    "# Let's create an array of integers\n",
    "array1 = np.array([[1,2,3],[4,5,6]])\n",
    "print(array1.dtype)\n",
    "# now create an array of floats\n",
    "array2 = np.array([[7.1,8.2,9.1],[10.4,11.2,12.3]])\n",
    "print(array2.dtype)"
   ]
  },
  {
   "cell_type": "markdown",
   "id": "0204a99a-7378-4bec-abe7-d7f396763d80",
   "metadata": {},
   "source": [
    "integers, int are whole numbers only and floating, \n",
    "point numbers float, can have a whole number portion and a decimal portion. \n",
    "The 64 in this example refers to the number of bits that the operating system \n",
    "is reserving to represent the number which determines the size or \n",
    "the precision of the numbers that can be represented. "
   ]
  },
  {
   "cell_type": "code",
   "execution_count": 47,
   "id": "a2712164-cec4-426f-a612-0c916f9caf9f",
   "metadata": {},
   "outputs": [
    {
     "name": "stdout",
     "output_type": "stream",
     "text": [
      "[[ 8.1 10.2 12.1]\n",
      " [14.4 16.2 18.3]]\n",
      "float64\n"
     ]
    }
   ],
   "source": [
    "# addition for the two arrays\n",
    "array3 = array1 + array2\n",
    "print(array3)\n",
    "print(array3.dtype)"
   ]
  },
  {
   "cell_type": "markdown",
   "id": "0e83d175-0ad1-4788-9b99-058e5f6c8265",
   "metadata": {},
   "source": [
    "Notice how the items in the resulting array have been upcast into floating point nums\n"
   ]
  },
  {
   "cell_type": "code",
   "execution_count": 48,
   "id": "2eb9df02-3ffd-4b7e-8358-729ae668429e",
   "metadata": {},
   "outputs": [
    {
     "name": "stdout",
     "output_type": "stream",
     "text": [
      "79.3\n",
      "18.3\n",
      "8.1\n",
      "13.216666666666667\n"
     ]
    }
   ],
   "source": [
    "# numpy arrays have many interesting aggregation funcitons on them\n",
    "print(array3.sum())\n",
    "print(array3.max())\n",
    "print(array3.min())\n",
    "print(array3.mean())\n"
   ]
  },
  {
   "cell_type": "markdown",
   "id": "4e892795-44aa-487b-845e-ec01cc4e24ee",
   "metadata": {},
   "source": [
    "For two dimensional arrays, we could do the same thing for each row or column. \n",
    "So, let's create an array with 15 elements ranging from 1 to 15, \n",
    "with the dimension of 3 by 5"
   ]
  },
  {
   "cell_type": "code",
   "execution_count": 49,
   "id": "76b05ba2-5ee4-446a-9e8d-8a374cf3e9a0",
   "metadata": {},
   "outputs": [
    {
     "name": "stdout",
     "output_type": "stream",
     "text": [
      "[[ 1  2  3  4  5]\n",
      " [ 6  7  8  9 10]\n",
      " [11 12 13 14 15]]\n"
     ]
    }
   ],
   "source": [
    "# np.arange used to generate a range of numbers\n",
    "# start, stop, step\n",
    "# reshape method used to reshape the dim of the array\n",
    "b = np.arange(1,16,1).reshape(3,5)\n",
    "print(b)"
   ]
  },
  {
   "cell_type": "markdown",
   "id": "ffcd118a-e5ec-4dd2-9ca0-0f0243fa8725",
   "metadata": {},
   "source": [
    "Now, we often think about two dimensional arrays being made up of rows and columns. \n",
    "But you can also think of these arrays is just giant ordered lists of numbers and \n",
    "the shape of the array. \n",
    "The number of rows and columns is just an abstraction that we have for \n",
    "a particular purpose. \n",
    "Actually, this is exactly how basic images are stored in computer environments. \n",
    "So, let's take a look at an example and \n",
    "see how numpy comes into play in something like images."
   ]
  },
  {
   "cell_type": "markdown",
   "id": "ba104730-1fcd-4e2f-a085-1161ad0edb78",
   "metadata": {},
   "source": [
    "For this demonstration, I'm going to use the Python Imaging Library, PIL and \n",
    "a function to display images in the Jupyter notebook."
   ]
  },
  {
   "cell_type": "code",
   "execution_count": 50,
   "id": "6c5ff6c2-e455-4868-af54-47a36789ff8b",
   "metadata": {},
   "outputs": [
    {
     "ename": "FileNotFoundError",
     "evalue": "[Errno 2] No such file or directory: 'chris.tiff'",
     "output_type": "error",
     "traceback": [
      "\u001b[0;31m---------------------------------------------------------------------------\u001b[0m",
      "\u001b[0;31mFileNotFoundError\u001b[0m                         Traceback (most recent call last)",
      "Input \u001b[0;32mIn [50]\u001b[0m, in \u001b[0;36m<cell line: 5>\u001b[0;34m()\u001b[0m\n\u001b[1;32m      2\u001b[0m \u001b[38;5;28;01mfrom\u001b[39;00m \u001b[38;5;21;01mIPython\u001b[39;00m\u001b[38;5;21;01m.\u001b[39;00m\u001b[38;5;21;01mdisplay\u001b[39;00m \u001b[38;5;28;01mimport\u001b[39;00m display\n\u001b[1;32m      4\u001b[0m \u001b[38;5;66;03m# and \u001b[39;00m\n\u001b[0;32m----> 5\u001b[0m im \u001b[38;5;241m=\u001b[39m \u001b[43mImage\u001b[49m\u001b[38;5;241;43m.\u001b[39;49m\u001b[43mopen\u001b[49m\u001b[43m(\u001b[49m\u001b[38;5;124;43m'\u001b[39;49m\u001b[38;5;124;43mchris.tiff\u001b[39;49m\u001b[38;5;124;43m'\u001b[39;49m\u001b[43m)\u001b[49m\n\u001b[1;32m      6\u001b[0m display(im)\n",
      "File \u001b[0;32m/opt/conda/lib/python3.8/site-packages/PIL/Image.py:2975\u001b[0m, in \u001b[0;36mopen\u001b[0;34m(fp, mode, formats)\u001b[0m\n\u001b[1;32m   2972\u001b[0m     filename \u001b[38;5;241m=\u001b[39m fp\n\u001b[1;32m   2974\u001b[0m \u001b[38;5;28;01mif\u001b[39;00m filename:\n\u001b[0;32m-> 2975\u001b[0m     fp \u001b[38;5;241m=\u001b[39m \u001b[43mbuiltins\u001b[49m\u001b[38;5;241;43m.\u001b[39;49m\u001b[43mopen\u001b[49m\u001b[43m(\u001b[49m\u001b[43mfilename\u001b[49m\u001b[43m,\u001b[49m\u001b[43m \u001b[49m\u001b[38;5;124;43m\"\u001b[39;49m\u001b[38;5;124;43mrb\u001b[39;49m\u001b[38;5;124;43m\"\u001b[39;49m\u001b[43m)\u001b[49m\n\u001b[1;32m   2976\u001b[0m     exclusive_fp \u001b[38;5;241m=\u001b[39m \u001b[38;5;28;01mTrue\u001b[39;00m\n\u001b[1;32m   2978\u001b[0m \u001b[38;5;28;01mtry\u001b[39;00m:\n",
      "\u001b[0;31mFileNotFoundError\u001b[0m: [Errno 2] No such file or directory: 'chris.tiff'"
     ]
    }
   ],
   "source": [
    "from PIL import Image\n",
    "from IPython.display import display\n",
    "\n",
    "# and \n",
    "im = Image.open('chris.tiff')\n",
    "display(im)"
   ]
  },
  {
   "cell_type": "code",
   "execution_count": null,
   "id": "914ff150-cd55-44bc-8acd-4b61991dcccb",
   "metadata": {},
   "outputs": [],
   "source": [
    "\n",
    "\n"
   ]
  },
  {
   "cell_type": "markdown",
   "id": "1772e947-0c09-4c5d-bd04-1143d967f71c",
   "metadata": {},
   "source": [
    " # Indexing, Slicing and Iterating"
   ]
  },
  {
   "cell_type": "markdown",
   "id": "47b74c15-0b4d-4f30-8219-cd4c56a28b9d",
   "metadata": {},
   "source": [
    "So, indexing, slicing and iterating are extremely important for \n",
    "data manipulation and analysis. \n",
    "Because these techniques allow us to select data based on conditions and \n",
    "copy or update the data. "
   ]
  },
  {
   "cell_type": "markdown",
   "id": "fb366fe5-a6de-4c85-ab4b-503ee64c53c2",
   "metadata": {},
   "source": [
    "# Indexing "
   ]
  },
  {
   "cell_type": "code",
   "execution_count": 51,
   "id": "016452fe-8559-46ce-b300-ea0a60c702a0",
   "metadata": {},
   "outputs": [
    {
     "data": {
      "text/plain": [
       "5"
      ]
     },
     "execution_count": 51,
     "metadata": {},
     "output_type": "execute_result"
    }
   ],
   "source": [
    "# first we are going to look at integer indexing. A one dimensional array, works in similar ways\n",
    "# To get an element in a one dimensional array, we simply use the offest index. \n",
    "a=np.array([1,3,5,7])\n",
    "a[2]"
   ]
  },
  {
   "cell_type": "code",
   "execution_count": 52,
   "id": "70d3eed1-4a6e-4045-80a8-93dd2b43dc78",
   "metadata": {},
   "outputs": [
    {
     "data": {
      "text/plain": [
       "array([[1, 2],\n",
       "       [3, 4],\n",
       "       [5, 6]])"
      ]
     },
     "execution_count": 52,
     "metadata": {},
     "output_type": "execute_result"
    }
   ],
   "source": [
    "# for multidimensional array, we need to use integer array indexing, let's create a new multidimensional array\n",
    "a = np.array([[1,2],[3,4],[5,6]])\n",
    "a"
   ]
  },
  {
   "cell_type": "code",
   "execution_count": 53,
   "id": "f6758f51-fe14-4e66-84ff-b166c85ebf8a",
   "metadata": {},
   "outputs": [
    {
     "data": {
      "text/plain": [
       "4"
      ]
     },
     "execution_count": 53,
     "metadata": {},
     "output_type": "execute_result"
    }
   ],
   "source": [
    "# if we want to select one certain element, we can do so by entering the index, which is comprised\n",
    "# of two integers the first being the row, and the second the column\n",
    "a[1,1] # remember in python we start at 0!"
   ]
  },
  {
   "cell_type": "markdown",
   "id": "403906f1-5b2b-4e12-8faf-c59ddea79bf9",
   "metadata": {},
   "source": [
    "if we want to get multiple elements, for \n",
    "example, one four and six and put them into a one-dimensional array, \n",
    "we can enter the indices directly into the array function."
   ]
  },
  {
   "cell_type": "code",
   "execution_count": 54,
   "id": "c6735842-638a-4862-b729-6d36be60d304",
   "metadata": {},
   "outputs": [
    {
     "data": {
      "text/plain": [
       "array([1, 4, 6])"
      ]
     },
     "execution_count": 54,
     "metadata": {},
     "output_type": "execute_result"
    }
   ],
   "source": [
    "np.array([a[0,0],a[1,1],a[2,1]])"
   ]
  },
  {
   "cell_type": "code",
   "execution_count": 55,
   "id": "54ce81b7-3768-4a14-aabb-44fea2b4a762",
   "metadata": {},
   "outputs": [
    {
     "name": "stdout",
     "output_type": "stream",
     "text": [
      "[1 4 6]\n"
     ]
    }
   ],
   "source": [
    "# we can also do that by using another form of array indexing, which essential \"zips\" \n",
    "# the first list and the second list up\n",
    "print(a[[0,1,2],[0,1,1]])"
   ]
  },
  {
   "cell_type": "code",
   "execution_count": 56,
   "id": "e5bc210a-50cc-461c-a9b7-4c4390aeb1f9",
   "metadata": {},
   "outputs": [
    {
     "name": "stdout",
     "output_type": "stream",
     "text": [
      "[[False False]\n",
      " [False False]\n",
      " [False  True]]\n"
     ]
    }
   ],
   "source": [
    "# boolean indexing allows us to select arbitrary elements based on conditions. Example, in the \n",
    "# matrix we want to find elements that are greater than 5 so we set up a condition a>5\n",
    "print(a>5)"
   ]
  },
  {
   "cell_type": "markdown",
   "id": "a5b6de32-f47e-4527-b14f-f0d2d127af3e",
   "metadata": {},
   "source": [
    "We can then place this array of booleans like a mask over the original array to return a \n",
    "one dimensional array relating to the true values."
   ]
  },
  {
   "cell_type": "code",
   "execution_count": 57,
   "id": "2579388e-a20f-4dea-aa10-9fbb8b75aa63",
   "metadata": {},
   "outputs": [
    {
     "name": "stdout",
     "output_type": "stream",
     "text": [
      "[6]\n"
     ]
    }
   ],
   "source": [
    "print(a[a>5])"
   ]
  },
  {
   "cell_type": "markdown",
   "id": "3c39cfa4-d704-4dc3-9b4c-efe0e24e9da5",
   "metadata": {
    "tags": []
   },
   "source": [
    "As we will see, this functionality is essential in the pandas toolkit which is the bulk\n",
    "of this course"
   ]
  },
  {
   "cell_type": "markdown",
   "id": "b99d8220-d2fe-4a15-b835-4e19df8fc425",
   "metadata": {},
   "source": [
    "# Slicing"
   ]
  },
  {
   "cell_type": "markdown",
   "id": "35ce84b3-418d-4e8c-9f4f-41eeda610632",
   "metadata": {},
   "source": [
    "So, slicing is a way to create a sub array based on the original array. \n",
    "For one-dimensional array slicing works in similar ways to a list. \n",
    "To slice, we use the colon, for instance, if we want to put colon three in \n",
    "the indexing brackets, we get the elements from index zero to index three. \n",
    "So, remember, excluding index three."
   ]
  },
  {
   "cell_type": "code",
   "execution_count": 59,
   "id": "2cb2eb9a-f474-4c03-85d2-95f4cb82cb09",
   "metadata": {},
   "outputs": [
    {
     "name": "stdout",
     "output_type": "stream",
     "text": [
      "[0 1 2]\n"
     ]
    }
   ],
   "source": [
    "a=np.array([0,1,2,3,4,5])\n",
    "print(a[:3])"
   ]
  },
  {
   "cell_type": "code",
   "execution_count": 60,
   "id": "9b4e27a6-c378-4a9f-8d01-999c1a9ddaf1",
   "metadata": {},
   "outputs": [
    {
     "name": "stdout",
     "output_type": "stream",
     "text": [
      "[2 3]\n"
     ]
    }
   ],
   "source": [
    "# By putting 2:4 in the bracket, we get elements from index 2 to index 4 (excluding index 4)\n",
    "print(a[2:4])"
   ]
  },
  {
   "cell_type": "code",
   "execution_count": 62,
   "id": "5fb45a8e-5279-432d-8585-3cafaf07cf48",
   "metadata": {},
   "outputs": [
    {
     "data": {
      "text/plain": [
       "array([[ 1,  2,  3,  4],\n",
       "       [ 5,  6,  7,  8],\n",
       "       [ 9, 10, 11, 12]])"
      ]
     },
     "execution_count": 62,
     "metadata": {},
     "output_type": "execute_result"
    }
   ],
   "source": [
    "# For multi-dimensional arrays, it works similarly, \n",
    "a = np.array([[1,2,3,4],[5,6,7,8],[9,10,11,12]])\n",
    "a"
   ]
  },
  {
   "cell_type": "code",
   "execution_count": 63,
   "id": "0fdf0047-6a58-4d0c-9fa0-ed61a59619b9",
   "metadata": {},
   "outputs": [
    {
     "data": {
      "text/plain": [
       "array([[1, 2, 3, 4],\n",
       "       [5, 6, 7, 8]])"
      ]
     },
     "execution_count": 63,
     "metadata": {},
     "output_type": "execute_result"
    }
   ],
   "source": [
    "# First, if we put one argument in the array, i.e., a[:2] then we get all the elements from the \n",
    "# first (0th) and second row (1th)\n",
    "a[:2]"
   ]
  },
  {
   "cell_type": "code",
   "execution_count": 76,
   "id": "38b21679-b374-4189-bf0b-73d44e055e73",
   "metadata": {},
   "outputs": [
    {
     "data": {
      "text/plain": [
       "array([[2, 3],\n",
       "       [6, 7]])"
      ]
     },
     "execution_count": 76,
     "metadata": {},
     "output_type": "execute_result"
    }
   ],
   "source": [
    "# If we add another argument to the array, i.e., \n",
    "# a[:2, 1:3], we get the first two rows but then the \n",
    "# second and third column values only\n",
    "a[:2, 1:3]\n"
   ]
  },
  {
   "cell_type": "code",
   "execution_count": 77,
   "id": "279c29ec-d9f5-41b3-b0c1-3721f44ce75c",
   "metadata": {},
   "outputs": [
    {
     "name": "stdout",
     "output_type": "stream",
     "text": [
      "sub array index [0,0] value before change: 2\n",
      "sub array index [0,0] value after change: 50\n",
      "original array index [0,1] value after change: 50\n"
     ]
    }
   ],
   "source": [
    "# So, in multidimensional arrays, the first argument is for selecting rows, and the second\n",
    "# argument is for selecting columns\n",
    "# Here I'll change the element at the position [0,0], which is 2, to 50, then we can see that\n",
    "# the value in the original array is changed to 50 as well\n",
    "sub_array = a[:2,1:3]\n",
    "print(\"sub array index [0,0] value before change:\", sub_array[0,0])\n",
    "\n",
    "# Change the value from 2 to 50\n",
    "sub_array[0,0]=50\n",
    "print(\"sub array index [0,0] value after change:\", sub_array[0,0])\n",
    "\n",
    "print(\"original array index [0,1] value after change:\",a[0,1])\n"
   ]
  },
  {
   "cell_type": "markdown",
   "id": "626ac6c0-8a55-4c1d-b7de-6a827fbc4e8f",
   "metadata": {},
   "source": [
    "# Trying Numpy with Datasets"
   ]
  },
  {
   "cell_type": "markdown",
   "id": "f9da2150-2dac-4119-90f4-3268d44b075a",
   "metadata": {
    "tags": []
   },
   "source": [
    "now that we've learned the essentials of numpy, let's use it on a couple of datasets. \n",
    "So, here we have a very popular data set on wine quality. \n",
    "And we're going to only look at red wines, the data fields include \n",
    "fixed acidity volatile acids, residual sugars, chlorides and so forth. \n",
    "The important one here is the alcohol content and \n",
    "the quality, that's how I buy wine anyway. \n",
    "To load a dataset into numpy, we can use the genfrom text function. \n",
    "We can specify data file name, the delimiter which is optional but \n",
    "we often use it and the number of rows to skip if we have a header row. \n",
    "It's one here, so, the genfrom text function has a parameter called d-type for \n",
    "specifying data types for each column and this parameter is optional. \n",
    "Without specifying the type, \n",
    "all types will be casted to a more general or precise type. \n",
    "So there will be some inference done."
   ]
  },
  {
   "cell_type": "code",
   "execution_count": 81,
   "id": "95d61b29-a752-4118-a4f4-ebcba82b985a",
   "metadata": {},
   "outputs": [
    {
     "data": {
      "text/plain": [
       "array([[ 7.4  ,  0.7  ,  0.   , ...,  0.56 ,  9.4  ,  5.   ],\n",
       "       [ 7.8  ,  0.88 ,  0.   , ...,  0.68 ,  9.8  ,  5.   ],\n",
       "       [ 7.8  ,  0.76 ,  0.04 , ...,  0.65 ,  9.8  ,  5.   ],\n",
       "       ...,\n",
       "       [ 6.3  ,  0.51 ,  0.13 , ...,  0.75 , 11.   ,  6.   ],\n",
       "       [ 5.9  ,  0.645,  0.12 , ...,  0.71 , 10.2  ,  5.   ],\n",
       "       [ 6.   ,  0.31 ,  0.47 , ...,  0.66 , 11.   ,  6.   ]])"
      ]
     },
     "execution_count": 81,
     "metadata": {},
     "output_type": "execute_result"
    }
   ],
   "source": [
    "wines = np.genfromtxt(\"winequality-red.csv\", delimiter=\";\", skip_header=1)\n",
    "wines"
   ]
  },
  {
   "cell_type": "markdown",
   "id": "e95c9fb9-7465-410e-8fc1-df30c237608b",
   "metadata": {},
   "source": [
    "So, recall that we can use integer indexing to get a certain column or row. \n",
    "For example, if we wanted to select the fixed acidity column, \n",
    "which is the first column, we can do so by entering the index into the array. \n",
    "Also remember that for multi-dimensional arrays, \n",
    "the first argument refers to the row and the second argument refers to the column. \n",
    "And if we just give one argument, then we'll get a single dimensional list back. "
   ]
  },
  {
   "cell_type": "code",
   "execution_count": 82,
   "id": "0f173090-6bee-4f38-9bfb-22c11dcc69b8",
   "metadata": {},
   "outputs": [
    {
     "name": "stdout",
     "output_type": "stream",
     "text": [
      "One integer 0 for slicing:  [7.4 7.8 7.8 ... 6.3 5.9 6. ]\n",
      "0 to 1 for slicing: \n",
      " [[7.4]\n",
      " [7.8]\n",
      " [7.8]\n",
      " ...\n",
      " [6.3]\n",
      " [5.9]\n",
      " [6. ]]\n"
     ]
    }
   ],
   "source": [
    "# So all rows combined but only the first column from them would be\n",
    "print(\"One integer 0 for slicing: \", wines[:,0])\n",
    "\n",
    "# But if we wanted the same values but wanted to preserve that they sit in their own rows we would\n",
    "# write\n",
    "print(\"0 to 1 for slicing: \\n\", wines[:, 0:1])"
   ]
  },
  {
   "cell_type": "markdown",
   "id": "f4e9cc94-9475-477c-9c67-6a23610d390d",
   "metadata": {},
   "source": [
    "So, this is another great example of how the shape of data is \n",
    "actually just an abstraction. \n",
    "Which we can layer intentionally on top of the data that were working with. \n",
    "\n",
    "If we want a range of columns in order, say, column zero through three and \n",
    "recall this means first second and third, since we started zero. \n",
    "And we don't include the training index value, we could do that too."
   ]
  },
  {
   "cell_type": "code",
   "execution_count": 83,
   "id": "a934b054-e6d0-448a-b137-cb837bffee2a",
   "metadata": {},
   "outputs": [
    {
     "data": {
      "text/plain": [
       "array([[7.4  , 0.7  , 0.   ],\n",
       "       [7.8  , 0.88 , 0.   ],\n",
       "       [7.8  , 0.76 , 0.04 ],\n",
       "       ...,\n",
       "       [6.3  , 0.51 , 0.13 ],\n",
       "       [5.9  , 0.645, 0.12 ],\n",
       "       [6.   , 0.31 , 0.47 ]])"
      ]
     },
     "execution_count": 83,
     "metadata": {},
     "output_type": "execute_result"
    }
   ],
   "source": [
    "wines[:,0:3]"
   ]
  },
  {
   "cell_type": "markdown",
   "id": "bade8698-7c9e-43c5-9545-d6884215ba96",
   "metadata": {},
   "source": [
    "what if we want several non-consecutive columns? \n",
    "Well, we can place the indices of the columns that we want into an array and \n",
    "past that array as the second argument. \n",
    "So here's an example, we can take wines, we want all rows so, colon. \n"
   ]
  },
  {
   "cell_type": "code",
   "execution_count": 84,
   "id": "71e9a1bd-5725-4968-8d1f-2913f638a754",
   "metadata": {},
   "outputs": [
    {
     "data": {
      "text/plain": [
       "array([[7.4  , 0.   , 0.076],\n",
       "       [7.8  , 0.   , 0.098],\n",
       "       [7.8  , 0.04 , 0.092],\n",
       "       ...,\n",
       "       [6.3  , 0.13 , 0.076],\n",
       "       [5.9  , 0.12 , 0.075],\n",
       "       [6.   , 0.47 , 0.067]])"
      ]
     },
     "execution_count": 84,
     "metadata": {},
     "output_type": "execute_result"
    }
   ],
   "source": [
    "wines[:,[0,2,4]]"
   ]
  },
  {
   "cell_type": "markdown",
   "id": "ec899e55-55b0-4eef-8058-bd8e3a0c5f46",
   "metadata": {},
   "source": [
    "So, we can also do some basic summarization of this data set. \n",
    "For example, if we wanted to find out the average quality of red wine, \n",
    "we can select the quality column. \n",
    "We could do this in a couple of ways, but \n",
    "the most appropriate is to use the minus one value for the index, \n",
    "as negative numbers means slicing from the back of a list. \n",
    "And then we just call the aggregation functions on this data."
   ]
  },
  {
   "cell_type": "code",
   "execution_count": 85,
   "id": "de88461d-7139-463a-8ca5-a937171595e9",
   "metadata": {},
   "outputs": [
    {
     "data": {
      "text/plain": [
       "5.6360225140712945"
      ]
     },
     "execution_count": 85,
     "metadata": {},
     "output_type": "execute_result"
    }
   ],
   "source": [
    "# Here -1 is the last column quality\n",
    "wines[:,-1].mean()"
   ]
  },
  {
   "cell_type": "markdown",
   "id": "bead010e-c4be-4869-a084-02699667f19d",
   "metadata": {},
   "source": [
    "let's take a look at another dataset, this time on graduate school admissions. \n",
    "So it is field such as GRE score, TOEFL score, university rating and so \n",
    "forth and it has a chance of admission at the end. \n",
    "With this dataset, we can do data manipulation and basic analysis to infer \n",
    "what conditions are associated with higher chances of admission. \n",
    "So, let's take a look, so \n",
    "we can specify data field names using genfromtext as it loads the CSV data. \n",
    "And also we can have numpy try and infer this type of the column by setting the d \n",
    "type parameter to none,"
   ]
  },
  {
   "cell_type": "code",
   "execution_count": 87,
   "id": "cdbb63c1-55d3-4a57-9e7d-51f28b6b1322",
   "metadata": {
    "collapsed": true,
    "jupyter": {
     "outputs_hidden": true
    },
    "tags": []
   },
   "outputs": [
    {
     "data": {
      "text/plain": [
       "array([(  1, 337, 118, 4, 4.5, 4.5, 9.65, 1, 0.92),\n",
       "       (  2, 324, 107, 4, 4. , 4.5, 8.87, 1, 0.76),\n",
       "       (  3, 316, 104, 3, 3. , 3.5, 8.  , 1, 0.72),\n",
       "       (  4, 322, 110, 3, 3.5, 2.5, 8.67, 1, 0.8 ),\n",
       "       (  5, 314, 103, 2, 2. , 3. , 8.21, 0, 0.65),\n",
       "       (  6, 330, 115, 5, 4.5, 3. , 9.34, 1, 0.9 ),\n",
       "       (  7, 321, 109, 3, 3. , 4. , 8.2 , 1, 0.75),\n",
       "       (  8, 308, 101, 2, 3. , 4. , 7.9 , 0, 0.68),\n",
       "       (  9, 302, 102, 1, 2. , 1.5, 8.  , 0, 0.5 ),\n",
       "       ( 10, 323, 108, 3, 3.5, 3. , 8.6 , 0, 0.45),\n",
       "       ( 11, 325, 106, 3, 3.5, 4. , 8.4 , 1, 0.52),\n",
       "       ( 12, 327, 111, 4, 4. , 4.5, 9.  , 1, 0.84),\n",
       "       ( 13, 328, 112, 4, 4. , 4.5, 9.1 , 1, 0.78),\n",
       "       ( 14, 307, 109, 3, 4. , 3. , 8.  , 1, 0.62),\n",
       "       ( 15, 311, 104, 3, 3.5, 2. , 8.2 , 1, 0.61),\n",
       "       ( 16, 314, 105, 3, 3.5, 2.5, 8.3 , 0, 0.54),\n",
       "       ( 17, 317, 107, 3, 4. , 3. , 8.7 , 0, 0.66),\n",
       "       ( 18, 319, 106, 3, 4. , 3. , 8.  , 1, 0.65),\n",
       "       ( 19, 318, 110, 3, 4. , 3. , 8.8 , 0, 0.63),\n",
       "       ( 20, 303, 102, 3, 3.5, 3. , 8.5 , 0, 0.62),\n",
       "       ( 21, 312, 107, 3, 3. , 2. , 7.9 , 1, 0.64),\n",
       "       ( 22, 325, 114, 4, 3. , 2. , 8.4 , 0, 0.7 ),\n",
       "       ( 23, 328, 116, 5, 5. , 5. , 9.5 , 1, 0.94),\n",
       "       ( 24, 334, 119, 5, 5. , 4.5, 9.7 , 1, 0.95),\n",
       "       ( 25, 336, 119, 5, 4. , 3.5, 9.8 , 1, 0.97),\n",
       "       ( 26, 340, 120, 5, 4.5, 4.5, 9.6 , 1, 0.94),\n",
       "       ( 27, 322, 109, 5, 4.5, 3.5, 8.8 , 0, 0.76),\n",
       "       ( 28, 298,  98, 2, 1.5, 2.5, 7.5 , 1, 0.44),\n",
       "       ( 29, 295,  93, 1, 2. , 2. , 7.2 , 0, 0.46),\n",
       "       ( 30, 310,  99, 2, 1.5, 2. , 7.3 , 0, 0.54),\n",
       "       ( 31, 300,  97, 2, 3. , 3. , 8.1 , 1, 0.65),\n",
       "       ( 32, 327, 103, 3, 4. , 4. , 8.3 , 1, 0.74),\n",
       "       ( 33, 338, 118, 4, 3. , 4.5, 9.4 , 1, 0.91),\n",
       "       ( 34, 340, 114, 5, 4. , 4. , 9.6 , 1, 0.9 ),\n",
       "       ( 35, 331, 112, 5, 4. , 5. , 9.8 , 1, 0.94),\n",
       "       ( 36, 320, 110, 5, 5. , 5. , 9.2 , 1, 0.88),\n",
       "       ( 37, 299, 106, 2, 4. , 4. , 8.4 , 0, 0.64),\n",
       "       ( 38, 300, 105, 1, 1. , 2. , 7.8 , 0, 0.58),\n",
       "       ( 39, 304, 105, 1, 3. , 1.5, 7.5 , 0, 0.52),\n",
       "       ( 40, 307, 108, 2, 4. , 3.5, 7.7 , 0, 0.48),\n",
       "       ( 41, 308, 110, 3, 3.5, 3. , 8.  , 1, 0.46),\n",
       "       ( 42, 316, 105, 2, 2.5, 2.5, 8.2 , 1, 0.49),\n",
       "       ( 43, 313, 107, 2, 2.5, 2. , 8.5 , 1, 0.53),\n",
       "       ( 44, 332, 117, 4, 4.5, 4. , 9.1 , 0, 0.87),\n",
       "       ( 45, 326, 113, 5, 4.5, 4. , 9.4 , 1, 0.91),\n",
       "       ( 46, 322, 110, 5, 5. , 4. , 9.1 , 1, 0.88),\n",
       "       ( 47, 329, 114, 5, 4. , 5. , 9.3 , 1, 0.86),\n",
       "       ( 48, 339, 119, 5, 4.5, 4. , 9.7 , 0, 0.89),\n",
       "       ( 49, 321, 110, 3, 3.5, 5. , 8.85, 1, 0.82),\n",
       "       ( 50, 327, 111, 4, 3. , 4. , 8.4 , 1, 0.78),\n",
       "       ( 51, 313,  98, 3, 2.5, 4.5, 8.3 , 1, 0.76),\n",
       "       ( 52, 312, 100, 2, 1.5, 3.5, 7.9 , 1, 0.56),\n",
       "       ( 53, 334, 116, 4, 4. , 3. , 8.  , 1, 0.78),\n",
       "       ( 54, 324, 112, 4, 4. , 2.5, 8.1 , 1, 0.72),\n",
       "       ( 55, 322, 110, 3, 3. , 3.5, 8.  , 0, 0.7 ),\n",
       "       ( 56, 320, 103, 3, 3. , 3. , 7.7 , 0, 0.64),\n",
       "       ( 57, 316, 102, 3, 2. , 3. , 7.4 , 0, 0.64),\n",
       "       ( 58, 298,  99, 2, 4. , 2. , 7.6 , 0, 0.46),\n",
       "       ( 59, 300,  99, 1, 3. , 2. , 6.8 , 1, 0.36),\n",
       "       ( 60, 311, 104, 2, 2. , 2. , 8.3 , 0, 0.42),\n",
       "       ( 61, 309, 100, 2, 3. , 3. , 8.1 , 0, 0.48),\n",
       "       ( 62, 307, 101, 3, 4. , 3. , 8.2 , 0, 0.47),\n",
       "       ( 63, 304, 105, 2, 3. , 3. , 8.2 , 1, 0.54),\n",
       "       ( 64, 315, 107, 2, 4. , 3. , 8.5 , 1, 0.56),\n",
       "       ( 65, 325, 111, 3, 3. , 3.5, 8.7 , 0, 0.52),\n",
       "       ( 66, 325, 112, 4, 3.5, 3.5, 8.92, 0, 0.55),\n",
       "       ( 67, 327, 114, 3, 3. , 3. , 9.02, 0, 0.61),\n",
       "       ( 68, 316, 107, 2, 3.5, 3.5, 8.64, 1, 0.57),\n",
       "       ( 69, 318, 109, 3, 3.5, 4. , 9.22, 1, 0.68),\n",
       "       ( 70, 328, 115, 4, 4.5, 4. , 9.16, 1, 0.78),\n",
       "       ( 71, 332, 118, 5, 5. , 5. , 9.64, 1, 0.94),\n",
       "       ( 72, 336, 112, 5, 5. , 5. , 9.76, 1, 0.96),\n",
       "       ( 73, 321, 111, 5, 5. , 5. , 9.45, 1, 0.93),\n",
       "       ( 74, 314, 108, 4, 4.5, 4. , 9.04, 1, 0.84),\n",
       "       ( 75, 314, 106, 3, 3. , 5. , 8.9 , 0, 0.74),\n",
       "       ( 76, 329, 114, 2, 2. , 4. , 8.56, 1, 0.72),\n",
       "       ( 77, 327, 112, 3, 3. , 3. , 8.72, 1, 0.74),\n",
       "       ( 78, 301,  99, 2, 3. , 2. , 8.22, 0, 0.64),\n",
       "       ( 79, 296,  95, 2, 3. , 2. , 7.54, 1, 0.44),\n",
       "       ( 80, 294,  93, 1, 1.5, 2. , 7.36, 0, 0.46),\n",
       "       ( 81, 312, 105, 3, 2. , 3. , 8.02, 1, 0.5 ),\n",
       "       ( 82, 340, 120, 4, 5. , 5. , 9.5 , 1, 0.96),\n",
       "       ( 83, 320, 110, 5, 5. , 4.5, 9.22, 1, 0.92),\n",
       "       ( 84, 322, 115, 5, 4. , 4.5, 9.36, 1, 0.92),\n",
       "       ( 85, 340, 115, 5, 4.5, 4.5, 9.45, 1, 0.94),\n",
       "       ( 86, 319, 103, 4, 4.5, 3.5, 8.66, 0, 0.76),\n",
       "       ( 87, 315, 106, 3, 4.5, 3.5, 8.42, 0, 0.72),\n",
       "       ( 88, 317, 107, 2, 3.5, 3. , 8.28, 0, 0.66),\n",
       "       ( 89, 314, 108, 3, 4.5, 3.5, 8.14, 0, 0.64),\n",
       "       ( 90, 316, 109, 4, 4.5, 3.5, 8.76, 1, 0.74),\n",
       "       ( 91, 318, 106, 2, 4. , 4. , 7.92, 1, 0.64),\n",
       "       ( 92, 299,  97, 3, 5. , 3.5, 7.66, 0, 0.38),\n",
       "       ( 93, 298,  98, 2, 4. , 3. , 8.03, 0, 0.34),\n",
       "       ( 94, 301,  97, 2, 3. , 3. , 7.88, 1, 0.44),\n",
       "       ( 95, 303,  99, 3, 2. , 2.5, 7.66, 0, 0.36),\n",
       "       ( 96, 304, 100, 4, 1.5, 2.5, 7.84, 0, 0.42),\n",
       "       ( 97, 306, 100, 2, 3. , 3. , 8.  , 0, 0.48),\n",
       "       ( 98, 331, 120, 3, 4. , 4. , 8.96, 1, 0.86),\n",
       "       ( 99, 332, 119, 4, 5. , 4.5, 9.24, 1, 0.9 ),\n",
       "       (100, 323, 113, 3, 4. , 4. , 8.88, 1, 0.79),\n",
       "       (101, 322, 107, 3, 3.5, 3.5, 8.46, 1, 0.71),\n",
       "       (102, 312, 105, 2, 2.5, 3. , 8.12, 0, 0.64),\n",
       "       (103, 314, 106, 2, 4. , 3.5, 8.25, 0, 0.62),\n",
       "       (104, 317, 104, 2, 4.5, 4. , 8.47, 0, 0.57),\n",
       "       (105, 326, 112, 3, 3.5, 3. , 9.05, 1, 0.74),\n",
       "       (106, 316, 110, 3, 4. , 4.5, 8.78, 1, 0.69),\n",
       "       (107, 329, 111, 4, 4.5, 4.5, 9.18, 1, 0.87),\n",
       "       (108, 338, 117, 4, 3.5, 4.5, 9.46, 1, 0.91),\n",
       "       (109, 331, 116, 5, 5. , 5. , 9.38, 1, 0.93),\n",
       "       (110, 304, 103, 5, 5. , 4. , 8.64, 0, 0.68),\n",
       "       (111, 305, 108, 5, 3. , 3. , 8.48, 0, 0.61),\n",
       "       (112, 321, 109, 4, 4. , 4. , 8.68, 1, 0.69),\n",
       "       (113, 301, 107, 3, 3.5, 3.5, 8.34, 1, 0.62),\n",
       "       (114, 320, 110, 2, 4. , 3.5, 8.56, 0, 0.72),\n",
       "       (115, 311, 105, 3, 3.5, 3. , 8.45, 1, 0.59),\n",
       "       (116, 310, 106, 4, 4.5, 4.5, 9.04, 1, 0.66),\n",
       "       (117, 299, 102, 3, 4. , 3.5, 8.62, 0, 0.56),\n",
       "       (118, 290, 104, 4, 2. , 2.5, 7.46, 0, 0.45),\n",
       "       (119, 296,  99, 2, 3. , 3.5, 7.28, 0, 0.47),\n",
       "       (120, 327, 104, 5, 3. , 3.5, 8.84, 1, 0.71),\n",
       "       (121, 335, 117, 5, 5. , 5. , 9.56, 1, 0.94),\n",
       "       (122, 334, 119, 5, 4.5, 4.5, 9.48, 1, 0.94),\n",
       "       (123, 310, 106, 4, 1.5, 2.5, 8.36, 0, 0.57),\n",
       "       (124, 308, 108, 3, 3.5, 3.5, 8.22, 0, 0.61),\n",
       "       (125, 301, 106, 4, 2.5, 3. , 8.47, 0, 0.57),\n",
       "       (126, 300, 100, 3, 2. , 3. , 8.66, 1, 0.64),\n",
       "       (127, 323, 113, 3, 4. , 3. , 9.32, 1, 0.85),\n",
       "       (128, 319, 112, 3, 2.5, 2. , 8.71, 1, 0.78),\n",
       "       (129, 326, 112, 3, 3.5, 3. , 9.1 , 1, 0.84),\n",
       "       (130, 333, 118, 5, 5. , 5. , 9.35, 1, 0.92),\n",
       "       (131, 339, 114, 5, 4. , 4.5, 9.76, 1, 0.96),\n",
       "       (132, 303, 105, 5, 5. , 4.5, 8.65, 0, 0.77),\n",
       "       (133, 309, 105, 5, 3.5, 3.5, 8.56, 0, 0.71),\n",
       "       (134, 323, 112, 5, 4. , 4.5, 8.78, 0, 0.79),\n",
       "       (135, 333, 113, 5, 4. , 4. , 9.28, 1, 0.89),\n",
       "       (136, 314, 109, 4, 3.5, 4. , 8.77, 1, 0.82),\n",
       "       (137, 312, 103, 3, 5. , 4. , 8.45, 0, 0.76),\n",
       "       (138, 316, 100, 2, 1.5, 3. , 8.16, 1, 0.71),\n",
       "       (139, 326, 116, 2, 4.5, 3. , 9.08, 1, 0.8 ),\n",
       "       (140, 318, 109, 1, 3.5, 3.5, 9.12, 0, 0.78),\n",
       "       (141, 329, 110, 2, 4. , 3. , 9.15, 1, 0.84),\n",
       "       (142, 332, 118, 2, 4.5, 3.5, 9.36, 1, 0.9 ),\n",
       "       (143, 331, 115, 5, 4. , 3.5, 9.44, 1, 0.92),\n",
       "       (144, 340, 120, 4, 4.5, 4. , 9.92, 1, 0.97),\n",
       "       (145, 325, 112, 2, 3. , 3.5, 8.96, 1, 0.8 ),\n",
       "       (146, 320, 113, 2, 2. , 2.5, 8.64, 1, 0.81),\n",
       "       (147, 315, 105, 3, 2. , 2.5, 8.48, 0, 0.75),\n",
       "       (148, 326, 114, 3, 3. , 3. , 9.11, 1, 0.83),\n",
       "       (149, 339, 116, 4, 4. , 3.5, 9.8 , 1, 0.96),\n",
       "       (150, 311, 106, 2, 3.5, 3. , 8.26, 1, 0.79),\n",
       "       (151, 334, 114, 4, 4. , 4. , 9.43, 1, 0.93),\n",
       "       (152, 332, 116, 5, 5. , 5. , 9.28, 1, 0.94),\n",
       "       (153, 321, 112, 5, 5. , 5. , 9.06, 1, 0.86),\n",
       "       (154, 324, 105, 3, 3. , 4. , 8.75, 0, 0.79),\n",
       "       (155, 326, 108, 3, 3. , 3.5, 8.89, 0, 0.8 ),\n",
       "       (156, 312, 109, 3, 3. , 3. , 8.69, 0, 0.77),\n",
       "       (157, 315, 105, 3, 2. , 2.5, 8.34, 0, 0.7 ),\n",
       "       (158, 309, 104, 2, 2. , 2.5, 8.26, 0, 0.65),\n",
       "       (159, 306, 106, 2, 2. , 2.5, 8.14, 0, 0.61),\n",
       "       (160, 297, 100, 1, 1.5, 2. , 7.9 , 0, 0.52),\n",
       "       (161, 315, 103, 1, 1.5, 2. , 7.86, 0, 0.57),\n",
       "       (162, 298,  99, 1, 1.5, 3. , 7.46, 0, 0.53),\n",
       "       (163, 318, 109, 3, 3. , 3. , 8.5 , 0, 0.67),\n",
       "       (164, 317, 105, 3, 3.5, 3. , 8.56, 0, 0.68),\n",
       "       (165, 329, 111, 4, 4.5, 4. , 9.01, 1, 0.81),\n",
       "       (166, 322, 110, 5, 4.5, 4. , 8.97, 0, 0.78),\n",
       "       (167, 302, 102, 3, 3.5, 5. , 8.33, 0, 0.65),\n",
       "       (168, 313, 102, 3, 2. , 3. , 8.27, 0, 0.64),\n",
       "       (169, 293,  97, 2, 2. , 4. , 7.8 , 1, 0.64),\n",
       "       (170, 311,  99, 2, 2.5, 3. , 7.98, 0, 0.65),\n",
       "       (171, 312, 101, 2, 2.5, 3.5, 8.04, 1, 0.68),\n",
       "       (172, 334, 117, 5, 4. , 4.5, 9.07, 1, 0.89),\n",
       "       (173, 322, 110, 4, 4. , 5. , 9.13, 1, 0.86),\n",
       "       (174, 323, 113, 4, 4. , 4.5, 9.23, 1, 0.89),\n",
       "       (175, 321, 111, 4, 4. , 4. , 8.97, 1, 0.87),\n",
       "       (176, 320, 111, 4, 4.5, 3.5, 8.87, 1, 0.85),\n",
       "       (177, 329, 119, 4, 4.5, 4.5, 9.16, 1, 0.9 ),\n",
       "       (178, 319, 110, 3, 3.5, 3.5, 9.04, 0, 0.82),\n",
       "       (179, 309, 108, 3, 2.5, 3. , 8.12, 0, 0.72),\n",
       "       (180, 307, 102, 3, 3. , 3. , 8.27, 0, 0.73),\n",
       "       (181, 300, 104, 3, 3.5, 3. , 8.16, 0, 0.71),\n",
       "       (182, 305, 107, 2, 2.5, 2.5, 8.42, 0, 0.71),\n",
       "       (183, 299, 100, 2, 3. , 3.5, 7.88, 0, 0.68),\n",
       "       (184, 314, 110, 3, 4. , 4. , 8.8 , 0, 0.75),\n",
       "       (185, 316, 106, 2, 2.5, 4. , 8.32, 0, 0.72),\n",
       "       (186, 327, 113, 4, 4.5, 4.5, 9.11, 1, 0.89),\n",
       "       (187, 317, 107, 3, 3.5, 3. , 8.68, 1, 0.84),\n",
       "       (188, 335, 118, 5, 4.5, 3.5, 9.44, 1, 0.93),\n",
       "       (189, 331, 115, 5, 4.5, 3.5, 9.36, 1, 0.93),\n",
       "       (190, 324, 112, 5, 5. , 5. , 9.08, 1, 0.88),\n",
       "       (191, 324, 111, 5, 4.5, 4. , 9.16, 1, 0.9 ),\n",
       "       (192, 323, 110, 5, 4. , 5. , 8.98, 1, 0.87),\n",
       "       (193, 322, 114, 5, 4.5, 4. , 8.94, 1, 0.86),\n",
       "       (194, 336, 118, 5, 4.5, 5. , 9.53, 1, 0.94),\n",
       "       (195, 316, 109, 3, 3.5, 3. , 8.76, 0, 0.77),\n",
       "       (196, 307, 107, 2, 3. , 3.5, 8.52, 1, 0.78),\n",
       "       (197, 306, 105, 2, 3. , 2.5, 8.26, 0, 0.73),\n",
       "       (198, 310, 106, 2, 3.5, 2.5, 8.33, 0, 0.73),\n",
       "       (199, 311, 104, 3, 4.5, 4.5, 8.43, 0, 0.7 ),\n",
       "       (200, 313, 107, 3, 4. , 4.5, 8.69, 0, 0.72),\n",
       "       (201, 317, 103, 3, 2.5, 3. , 8.54, 1, 0.73),\n",
       "       (202, 315, 110, 2, 3.5, 3. , 8.46, 1, 0.72),\n",
       "       (203, 340, 120, 5, 4.5, 4.5, 9.91, 1, 0.97),\n",
       "       (204, 334, 120, 5, 4. , 5. , 9.87, 1, 0.97),\n",
       "       (205, 298, 105, 3, 3.5, 4. , 8.54, 0, 0.69),\n",
       "       (206, 295,  99, 2, 2.5, 3. , 7.65, 0, 0.57),\n",
       "       (207, 315,  99, 2, 3.5, 3. , 7.89, 0, 0.63),\n",
       "       (208, 310, 102, 3, 3.5, 4. , 8.02, 1, 0.66),\n",
       "       (209, 305, 106, 2, 3. , 3. , 8.16, 0, 0.64),\n",
       "       (210, 301, 104, 3, 3.5, 4. , 8.12, 1, 0.68),\n",
       "       (211, 325, 108, 4, 4.5, 4. , 9.06, 1, 0.79),\n",
       "       (212, 328, 110, 4, 5. , 4. , 9.14, 1, 0.82),\n",
       "       (213, 338, 120, 4, 5. , 5. , 9.66, 1, 0.95),\n",
       "       (214, 333, 119, 5, 5. , 4.5, 9.78, 1, 0.96),\n",
       "       (215, 331, 117, 4, 4.5, 5. , 9.42, 1, 0.94),\n",
       "       (216, 330, 116, 5, 5. , 4.5, 9.36, 1, 0.93),\n",
       "       (217, 322, 112, 4, 4.5, 4.5, 9.26, 1, 0.91),\n",
       "       (218, 321, 109, 4, 4. , 4. , 9.13, 1, 0.85),\n",
       "       (219, 324, 110, 4, 3. , 3.5, 8.97, 1, 0.84),\n",
       "       (220, 312, 104, 3, 3.5, 3.5, 8.42, 0, 0.74),\n",
       "       (221, 313, 103, 3, 4. , 4. , 8.75, 0, 0.76),\n",
       "       (222, 316, 110, 3, 3.5, 4. , 8.56, 0, 0.75),\n",
       "       (223, 324, 113, 4, 4.5, 4. , 8.79, 0, 0.76),\n",
       "       (224, 308, 109, 2, 3. , 4. , 8.45, 0, 0.71),\n",
       "       (225, 305, 105, 2, 3. , 2. , 8.23, 0, 0.67),\n",
       "       (226, 296,  99, 2, 2.5, 2.5, 8.03, 0, 0.61),\n",
       "       (227, 306, 110, 2, 3.5, 4. , 8.45, 0, 0.63),\n",
       "       (228, 312, 110, 2, 3.5, 3. , 8.53, 0, 0.64),\n",
       "       (229, 318, 112, 3, 4. , 3.5, 8.67, 0, 0.71),\n",
       "       (230, 324, 111, 4, 3. , 3. , 9.01, 1, 0.82),\n",
       "       (231, 313, 104, 3, 4. , 4.5, 8.65, 0, 0.73),\n",
       "       (232, 319, 106, 3, 3.5, 2.5, 8.33, 1, 0.74),\n",
       "       (233, 312, 107, 2, 2.5, 3.5, 8.27, 0, 0.69),\n",
       "       (234, 304, 100, 2, 2.5, 3.5, 8.07, 0, 0.64),\n",
       "       (235, 330, 113, 5, 5. , 4. , 9.31, 1, 0.91),\n",
       "       (236, 326, 111, 5, 4.5, 4. , 9.23, 1, 0.88),\n",
       "       (237, 325, 112, 4, 4. , 4.5, 9.17, 1, 0.85),\n",
       "       (238, 329, 114, 5, 4.5, 5. , 9.19, 1, 0.86),\n",
       "       (239, 310, 104, 3, 2. , 3.5, 8.37, 0, 0.7 ),\n",
       "       (240, 299, 100, 1, 1.5, 2. , 7.89, 0, 0.59),\n",
       "       (241, 296, 101, 1, 2.5, 3. , 7.68, 0, 0.6 ),\n",
       "       (242, 317, 103, 2, 2.5, 2. , 8.15, 0, 0.65),\n",
       "       (243, 324, 115, 3, 3.5, 3. , 8.76, 1, 0.7 ),\n",
       "       (244, 325, 114, 3, 3.5, 3. , 9.04, 1, 0.76),\n",
       "       (245, 314, 107, 2, 2.5, 4. , 8.56, 0, 0.63),\n",
       "       (246, 328, 110, 4, 4. , 2.5, 9.02, 1, 0.81),\n",
       "       (247, 316, 105, 3, 3. , 3.5, 8.73, 0, 0.72),\n",
       "       (248, 311, 104, 2, 2.5, 3.5, 8.48, 0, 0.71),\n",
       "       (249, 324, 110, 3, 3.5, 4. , 8.87, 1, 0.8 ),\n",
       "       (250, 321, 111, 3, 3.5, 4. , 8.83, 1, 0.77),\n",
       "       (251, 320, 104, 3, 3. , 2.5, 8.57, 1, 0.74),\n",
       "       (252, 316,  99, 2, 2.5, 3. , 9.  , 0, 0.7 ),\n",
       "       (253, 318, 100, 2, 2.5, 3.5, 8.54, 1, 0.71),\n",
       "       (254, 335, 115, 4, 4.5, 4.5, 9.68, 1, 0.93),\n",
       "       (255, 321, 114, 4, 4. , 5. , 9.12, 0, 0.85),\n",
       "       (256, 307, 110, 4, 4. , 4.5, 8.37, 0, 0.79),\n",
       "       (257, 309,  99, 3, 4. , 4. , 8.56, 0, 0.76),\n",
       "       (258, 324, 100, 3, 4. , 5. , 8.64, 1, 0.78),\n",
       "       (259, 326, 102, 4, 5. , 5. , 8.76, 1, 0.77),\n",
       "       (260, 331, 119, 4, 5. , 4.5, 9.34, 1, 0.9 ),\n",
       "       (261, 327, 108, 5, 5. , 3.5, 9.13, 1, 0.87),\n",
       "       (262, 312, 104, 3, 3.5, 4. , 8.09, 0, 0.71),\n",
       "       (263, 308, 103, 2, 2.5, 4. , 8.36, 1, 0.7 ),\n",
       "       (264, 324, 111, 3, 2.5, 1.5, 8.79, 1, 0.7 ),\n",
       "       (265, 325, 110, 2, 3. , 2.5, 8.76, 1, 0.75),\n",
       "       (266, 313, 102, 3, 2.5, 2.5, 8.68, 0, 0.71),\n",
       "       (267, 312, 105, 2, 2. , 2.5, 8.45, 0, 0.72),\n",
       "       (268, 314, 107, 3, 3. , 3.5, 8.17, 1, 0.73),\n",
       "       (269, 327, 113, 4, 4.5, 5. , 9.14, 0, 0.83),\n",
       "       (270, 308, 108, 4, 4.5, 5. , 8.34, 0, 0.77),\n",
       "       (271, 306, 105, 2, 2.5, 3. , 8.22, 1, 0.72),\n",
       "       (272, 299,  96, 2, 1.5, 2. , 7.86, 0, 0.54),\n",
       "       (273, 294,  95, 1, 1.5, 1.5, 7.64, 0, 0.49),\n",
       "       (274, 312,  99, 1, 1. , 1.5, 8.01, 1, 0.52),\n",
       "       (275, 315, 100, 1, 2. , 2.5, 7.95, 0, 0.58),\n",
       "       (276, 322, 110, 3, 3.5, 3. , 8.96, 1, 0.78),\n",
       "       (277, 329, 113, 5, 5. , 4.5, 9.45, 1, 0.89),\n",
       "       (278, 320, 101, 2, 2.5, 3. , 8.62, 0, 0.7 ),\n",
       "       (279, 308, 103, 2, 3. , 3.5, 8.49, 0, 0.66),\n",
       "       (280, 304, 102, 2, 3. , 4. , 8.73, 0, 0.67),\n",
       "       (281, 311, 102, 3, 4.5, 4. , 8.64, 1, 0.68),\n",
       "       (282, 317, 110, 3, 4. , 4.5, 9.11, 1, 0.8 ),\n",
       "       (283, 312, 106, 3, 4. , 3.5, 8.79, 1, 0.81),\n",
       "       (284, 321, 111, 3, 2.5, 3. , 8.9 , 1, 0.8 ),\n",
       "       (285, 340, 112, 4, 5. , 4.5, 9.66, 1, 0.94),\n",
       "       (286, 331, 116, 5, 4. , 4. , 9.26, 1, 0.93),\n",
       "       (287, 336, 118, 5, 4.5, 4. , 9.19, 1, 0.92),\n",
       "       (288, 324, 114, 5, 5. , 4.5, 9.08, 1, 0.89),\n",
       "       (289, 314, 104, 4, 5. , 5. , 9.02, 0, 0.82),\n",
       "       (290, 313, 109, 3, 4. , 3.5, 9.  , 0, 0.79),\n",
       "       (291, 307, 105, 2, 2.5, 3. , 7.65, 0, 0.58),\n",
       "       (292, 300, 102, 2, 1.5, 2. , 7.87, 0, 0.56),\n",
       "       (293, 302,  99, 2, 1. , 2. , 7.97, 0, 0.56),\n",
       "       (294, 312,  98, 1, 3.5, 3. , 8.18, 1, 0.64),\n",
       "       (295, 316, 101, 2, 2.5, 2. , 8.32, 1, 0.61),\n",
       "       (296, 317, 100, 2, 3. , 2.5, 8.57, 0, 0.68),\n",
       "       (297, 310, 107, 3, 3.5, 3.5, 8.67, 0, 0.76),\n",
       "       (298, 320, 120, 3, 4. , 4.5, 9.11, 0, 0.86),\n",
       "       (299, 330, 114, 3, 4.5, 4.5, 9.24, 1, 0.9 ),\n",
       "       (300, 305, 112, 3, 3. , 3.5, 8.65, 0, 0.71),\n",
       "       (301, 309, 106, 2, 2.5, 2.5, 8.  , 0, 0.62),\n",
       "       (302, 319, 108, 2, 2.5, 3. , 8.76, 0, 0.66),\n",
       "       (303, 322, 105, 2, 3. , 3. , 8.45, 1, 0.65),\n",
       "       (304, 323, 107, 3, 3.5, 3.5, 8.55, 1, 0.73),\n",
       "       (305, 313, 106, 2, 2.5, 2. , 8.43, 0, 0.62),\n",
       "       (306, 321, 109, 3, 3.5, 3.5, 8.8 , 1, 0.74),\n",
       "       (307, 323, 110, 3, 4. , 3.5, 9.1 , 1, 0.79),\n",
       "       (308, 325, 112, 4, 4. , 4. , 9.  , 1, 0.8 ),\n",
       "       (309, 312, 108, 3, 3.5, 3. , 8.53, 0, 0.69),\n",
       "       (310, 308, 110, 4, 3.5, 3. , 8.6 , 0, 0.7 ),\n",
       "       (311, 320, 104, 3, 3. , 3.5, 8.74, 1, 0.76),\n",
       "       (312, 328, 108, 4, 4.5, 4. , 9.18, 1, 0.84),\n",
       "       (313, 311, 107, 4, 4.5, 4.5, 9.  , 1, 0.78),\n",
       "       (314, 301, 100, 3, 3.5, 3. , 8.04, 0, 0.67),\n",
       "       (315, 305, 105, 2, 3. , 4. , 8.13, 0, 0.66),\n",
       "       (316, 308, 104, 2, 2.5, 3. , 8.07, 0, 0.65),\n",
       "       (317, 298, 101, 2, 1.5, 2. , 7.86, 0, 0.54),\n",
       "       (318, 300,  99, 1, 1. , 2.5, 8.01, 0, 0.58),\n",
       "       (319, 324, 111, 3, 2.5, 2. , 8.8 , 1, 0.79),\n",
       "       (320, 327, 113, 4, 3.5, 3. , 8.69, 1, 0.8 ),\n",
       "       (321, 317, 106, 3, 4. , 3.5, 8.5 , 1, 0.75),\n",
       "       (322, 323, 104, 3, 4. , 4. , 8.44, 1, 0.73),\n",
       "       (323, 314, 107, 2, 2.5, 4. , 8.27, 0, 0.72),\n",
       "       (324, 305, 102, 2, 2. , 2.5, 8.18, 0, 0.62),\n",
       "       (325, 315, 104, 3, 3. , 2.5, 8.33, 0, 0.67),\n",
       "       (326, 326, 116, 3, 3.5, 4. , 9.14, 1, 0.81),\n",
       "       (327, 299, 100, 3, 2. , 2. , 8.02, 0, 0.63),\n",
       "       (328, 295, 101, 2, 2.5, 2. , 7.86, 0, 0.69),\n",
       "       (329, 324, 112, 4, 4. , 3.5, 8.77, 1, 0.8 ),\n",
       "       (330, 297,  96, 2, 2.5, 1.5, 7.89, 0, 0.43),\n",
       "       (331, 327, 113, 3, 3.5, 3. , 8.66, 1, 0.8 ),\n",
       "       (332, 311, 105, 2, 3. , 2. , 8.12, 1, 0.73),\n",
       "       (333, 308, 106, 3, 3.5, 2.5, 8.21, 1, 0.75),\n",
       "       (334, 319, 108, 3, 3. , 3.5, 8.54, 1, 0.71),\n",
       "       (335, 312, 107, 4, 4.5, 4. , 8.65, 1, 0.73),\n",
       "       (336, 325, 111, 4, 4. , 4.5, 9.11, 1, 0.83),\n",
       "       (337, 319, 110, 3, 3. , 2.5, 8.79, 0, 0.72),\n",
       "       (338, 332, 118, 5, 5. , 5. , 9.47, 1, 0.94),\n",
       "       (339, 323, 108, 5, 4. , 4. , 8.74, 1, 0.81),\n",
       "       (340, 324, 107, 5, 3.5, 4. , 8.66, 1, 0.81),\n",
       "       (341, 312, 107, 3, 3. , 3. , 8.46, 1, 0.75),\n",
       "       (342, 326, 110, 3, 3.5, 3.5, 8.76, 1, 0.79),\n",
       "       (343, 308, 106, 3, 3. , 3. , 8.24, 0, 0.58),\n",
       "       (344, 305, 103, 2, 2.5, 3.5, 8.13, 0, 0.59),\n",
       "       (345, 295,  96, 2, 1.5, 2. , 7.34, 0, 0.47),\n",
       "       (346, 316,  98, 1, 1.5, 2. , 7.43, 0, 0.49),\n",
       "       (347, 304,  97, 2, 1.5, 2. , 7.64, 0, 0.47),\n",
       "       (348, 299,  94, 1, 1. , 1. , 7.34, 0, 0.42),\n",
       "       (349, 302,  99, 1, 2. , 2. , 7.25, 0, 0.57),\n",
       "       (350, 313, 101, 3, 2.5, 3. , 8.04, 0, 0.62),\n",
       "       (351, 318, 107, 3, 3. , 3.5, 8.27, 1, 0.74),\n",
       "       (352, 325, 110, 4, 3.5, 4. , 8.67, 1, 0.73),\n",
       "       (353, 303, 100, 2, 3. , 3.5, 8.06, 1, 0.64),\n",
       "       (354, 300, 102, 3, 3.5, 2.5, 8.17, 0, 0.63),\n",
       "       (355, 297,  98, 2, 2.5, 3. , 7.67, 0, 0.59),\n",
       "       (356, 317, 106, 2, 2. , 3.5, 8.12, 0, 0.73),\n",
       "       (357, 327, 109, 3, 3.5, 4. , 8.77, 1, 0.79),\n",
       "       (358, 301, 104, 2, 3.5, 3.5, 7.89, 1, 0.68),\n",
       "       (359, 314, 105, 2, 2.5, 2. , 7.64, 0, 0.7 ),\n",
       "       (360, 321, 107, 2, 2. , 1.5, 8.44, 0, 0.81),\n",
       "       (361, 322, 110, 3, 4. , 5. , 8.64, 1, 0.85),\n",
       "       (362, 334, 116, 4, 4. , 3.5, 9.54, 1, 0.93),\n",
       "       (363, 338, 115, 5, 4.5, 5. , 9.23, 1, 0.91),\n",
       "       (364, 306, 103, 2, 2.5, 3. , 8.36, 0, 0.69),\n",
       "       (365, 313, 102, 3, 3.5, 4. , 8.9 , 1, 0.77),\n",
       "       (366, 330, 114, 4, 4.5, 3. , 9.17, 1, 0.86),\n",
       "       (367, 320, 104, 3, 3.5, 4.5, 8.34, 1, 0.74),\n",
       "       (368, 311,  98, 1, 1. , 2.5, 7.46, 0, 0.57),\n",
       "       (369, 298,  92, 1, 2. , 2. , 7.88, 0, 0.51),\n",
       "       (370, 301,  98, 1, 2. , 3. , 8.03, 1, 0.67),\n",
       "       (371, 310, 103, 2, 2.5, 2.5, 8.24, 0, 0.72),\n",
       "       (372, 324, 110, 3, 3.5, 3. , 9.22, 1, 0.89),\n",
       "       (373, 336, 119, 4, 4.5, 4. , 9.62, 1, 0.95),\n",
       "       (374, 321, 109, 3, 3. , 3. , 8.54, 1, 0.79),\n",
       "       (375, 315, 105, 2, 2. , 2.5, 7.65, 0, 0.39),\n",
       "       (376, 304, 101, 2, 2. , 2.5, 7.66, 0, 0.38),\n",
       "       (377, 297,  96, 2, 2.5, 2. , 7.43, 0, 0.34),\n",
       "       (378, 290, 100, 1, 1.5, 2. , 7.56, 0, 0.47),\n",
       "       (379, 303,  98, 1, 2. , 2.5, 7.65, 0, 0.56),\n",
       "       (380, 311,  99, 1, 2.5, 3. , 8.43, 1, 0.71),\n",
       "       (381, 322, 104, 3, 3.5, 4. , 8.84, 1, 0.78),\n",
       "       (382, 319, 105, 3, 3. , 3.5, 8.67, 1, 0.73),\n",
       "       (383, 324, 110, 4, 4.5, 4. , 9.15, 1, 0.82),\n",
       "       (384, 300, 100, 3, 3. , 3.5, 8.26, 0, 0.62),\n",
       "       (385, 340, 113, 4, 5. , 5. , 9.74, 1, 0.96),\n",
       "       (386, 335, 117, 5, 5. , 5. , 9.82, 1, 0.96),\n",
       "       (387, 302, 101, 2, 2.5, 3.5, 7.96, 0, 0.46),\n",
       "       (388, 307, 105, 2, 2. , 3.5, 8.1 , 0, 0.53),\n",
       "       (389, 296,  97, 2, 1.5, 2. , 7.8 , 0, 0.49),\n",
       "       (390, 320, 108, 3, 3.5, 4. , 8.44, 1, 0.76),\n",
       "       (391, 314, 102, 2, 2. , 2.5, 8.24, 0, 0.64),\n",
       "       (392, 318, 106, 3, 2. , 3. , 8.65, 0, 0.71),\n",
       "       (393, 326, 112, 4, 4. , 3.5, 9.12, 1, 0.84),\n",
       "       (394, 317, 104, 2, 3. , 3. , 8.76, 0, 0.77),\n",
       "       (395, 329, 111, 4, 4.5, 4. , 9.23, 1, 0.89),\n",
       "       (396, 324, 110, 3, 3.5, 3.5, 9.04, 1, 0.82),\n",
       "       (397, 325, 107, 3, 3. , 3.5, 9.11, 1, 0.84),\n",
       "       (398, 330, 116, 4, 5. , 4.5, 9.45, 1, 0.91),\n",
       "       (399, 312, 103, 3, 3.5, 4. , 8.78, 0, 0.67),\n",
       "       (400, 333, 117, 4, 5. , 4. , 9.66, 1, 0.95)],\n",
       "      dtype=[('Serial_No', '<i8'), ('GRE_Score', '<i8'), ('TOEFL_Score', '<i8'), ('University_Rating', '<i8'), ('SOP', '<f8'), ('LOR', '<f8'), ('CGPA', '<f8'), ('Research', '<i8'), ('Chance_of_Admit', '<f8')])"
      ]
     },
     "execution_count": 87,
     "metadata": {},
     "output_type": "execute_result"
    }
   ],
   "source": [
    "graduate_admission = np.genfromtxt('Admission_Predict.csv', dtype=None, delimiter=\",\", skip_header=1,\n",
    "                                   names=('Serial No','GRE Score','TOEFL Score','University Rating',\n",
    "                                          'SOP', 'LOR','CGPA', 'Research','Chance of Admit'))\n",
    "graduate_admission"
   ]
  },
  {
   "cell_type": "code",
   "execution_count": 88,
   "id": "174e2cfc-da82-4be5-8fe4-2348139ffff5",
   "metadata": {},
   "outputs": [
    {
     "data": {
      "text/plain": [
       "(400,)"
      ]
     },
     "execution_count": 88,
     "metadata": {},
     "output_type": "execute_result"
    }
   ],
   "source": [
    "# Notice that the resulting array is actually a one dimensional array with 400 tuples\n",
    "graduate_admission.shape"
   ]
  },
  {
   "cell_type": "code",
   "execution_count": 90,
   "id": "37c9c779-4423-4eb5-9c4b-7fb5e76c8244",
   "metadata": {},
   "outputs": [
    {
     "data": {
      "text/plain": [
       "array([9.65, 8.87, 8.  , 8.67, 8.21])"
      ]
     },
     "execution_count": 90,
     "metadata": {},
     "output_type": "execute_result"
    }
   ],
   "source": [
    "# We can retrieve a column from the array using the column's name lets get the CGPA column and\n",
    "# only the first five values\n",
    "graduate_admission['CGPA'][0:5]"
   ]
  },
  {
   "cell_type": "code",
   "execution_count": 91,
   "id": "6c03ce37-043c-42d0-87f6-873300fda9ad",
   "metadata": {},
   "outputs": [
    {
     "data": {
      "text/plain": [
       "array([3.86 , 3.548, 3.2  , 3.468, 3.284, 3.736, 3.28 , 3.16 , 3.2  ,\n",
       "       3.44 , 3.36 , 3.6  , 3.64 , 3.2  , 3.28 , 3.32 , 3.48 , 3.2  ,\n",
       "       3.52 , 3.4  ])"
      ]
     },
     "execution_count": 91,
     "metadata": {},
     "output_type": "execute_result"
    }
   ],
   "source": [
    "# Since the GPA in the dataset range from 1 to 10, and in the US it's more common to use a scale\n",
    "# of up to 4, a common task might be to convert the GPA by dividing by 10 and multiply by 4\n",
    "graduate_admission['CGPA'] = graduate_admission['CGPA'] / 10*4\n",
    "graduate_admission['CGPA'][0:20] # lets get 20 values"
   ]
  },
  {
   "cell_type": "markdown",
   "id": "eb845a2d-1524-43e8-8f3b-4d83d3c49fe0",
   "metadata": {},
   "source": [
    "remember Boolean masking? \n",
    "Well, we can use this to find out how many students have had research experience by \n",
    "creating a Boolean mask and passing it to the array indexing operator. \n",
    "So, we'll take the graduate_admission sub research will compare that to one, \n",
    "if it's one, a True will be admitted, otherwise a False will be admitted. \n",
    "That creates us a mask, \n",
    "which we then pass into graduate admission using the indexing operator. \n"
   ]
  },
  {
   "cell_type": "code",
   "execution_count": 93,
   "id": "6ab34a65-887a-407a-a9ae-8b423b40b171",
   "metadata": {},
   "outputs": [
    {
     "data": {
      "text/plain": [
       "219"
      ]
     },
     "execution_count": 93,
     "metadata": {},
     "output_type": "execute_result"
    }
   ],
   "source": [
    "len(graduate_admission[graduate_admission['Research']==1])\n",
    "                       "
   ]
  },
  {
   "cell_type": "markdown",
   "id": "4bdf4a9a-e4de-4226-8f69-b34bd2105ed4",
   "metadata": {},
   "source": [
    "So, since we've got the data field chance of admission, \n",
    "which ranges from zero to one, we can try and \n",
    "see if students with high chance of admission, let's say 80% on average, \n",
    "have higher GRE scores than those with lower chance of admission, let's say 40%. \n",
    "So first we're going to use Boolean masking to pull out only \n",
    "those students that we're interested in based on their chance of admission. \n",
    "And then we pull out only their GPA scores and \n",
    "then we're going to print the mean values."
   ]
  },
  {
   "cell_type": "code",
   "execution_count": 94,
   "id": "1ea1183a-569f-4af8-8876-c428cdb796d8",
   "metadata": {},
   "outputs": [
    {
     "name": "stdout",
     "output_type": "stream",
     "text": [
      "328.7350427350427\n",
      "302.2857142857143\n"
     ]
    }
   ],
   "source": [
    "print(graduate_admission[graduate_admission['Chance_of_Admit']>0.8]['GRE_Score'].mean())\n",
    "print(graduate_admission[graduate_admission['Chance_of_Admit'] < 0.4]['GRE_Score'].mean())"
   ]
  },
  {
   "cell_type": "markdown",
   "id": "97a15ad0-9e0c-4150-a0e0-add3a42f17c1",
   "metadata": {},
   "source": [
    "So, take it a moment here to reflect, \n",
    "do you understand what's happening in the calls above? \n",
    "When we do the Boolean masking, \n",
    "we are left with an array with tuples in it still. \n",
    "And numpy holds underneath this a list of the columns we specified and \n",
    "their name and indexes. \n"
   ]
  },
  {
   "cell_type": "code",
   "execution_count": 97,
   "id": "063ab571-e999-49a4-a455-a660177fb294",
   "metadata": {
    "collapsed": true,
    "jupyter": {
     "outputs_hidden": true
    },
    "tags": []
   },
   "outputs": [
    {
     "data": {
      "text/plain": [
       "array([(  1, 337, 118, 4, 4.5, 4.5, 3.86 , 1, 0.92),\n",
       "       (  6, 330, 115, 5, 4.5, 3. , 3.736, 1, 0.9 ),\n",
       "       ( 12, 327, 111, 4, 4. , 4.5, 3.6  , 1, 0.84),\n",
       "       ( 23, 328, 116, 5, 5. , 5. , 3.8  , 1, 0.94),\n",
       "       ( 24, 334, 119, 5, 5. , 4.5, 3.88 , 1, 0.95),\n",
       "       ( 25, 336, 119, 5, 4. , 3.5, 3.92 , 1, 0.97),\n",
       "       ( 26, 340, 120, 5, 4.5, 4.5, 3.84 , 1, 0.94),\n",
       "       ( 33, 338, 118, 4, 3. , 4.5, 3.76 , 1, 0.91),\n",
       "       ( 34, 340, 114, 5, 4. , 4. , 3.84 , 1, 0.9 ),\n",
       "       ( 35, 331, 112, 5, 4. , 5. , 3.92 , 1, 0.94),\n",
       "       ( 36, 320, 110, 5, 5. , 5. , 3.68 , 1, 0.88),\n",
       "       ( 44, 332, 117, 4, 4.5, 4. , 3.64 , 0, 0.87),\n",
       "       ( 45, 326, 113, 5, 4.5, 4. , 3.76 , 1, 0.91),\n",
       "       ( 46, 322, 110, 5, 5. , 4. , 3.64 , 1, 0.88),\n",
       "       ( 47, 329, 114, 5, 4. , 5. , 3.72 , 1, 0.86),\n",
       "       ( 48, 339, 119, 5, 4.5, 4. , 3.88 , 0, 0.89),\n",
       "       ( 49, 321, 110, 3, 3.5, 5. , 3.54 , 1, 0.82),\n",
       "       ( 71, 332, 118, 5, 5. , 5. , 3.856, 1, 0.94),\n",
       "       ( 72, 336, 112, 5, 5. , 5. , 3.904, 1, 0.96),\n",
       "       ( 73, 321, 111, 5, 5. , 5. , 3.78 , 1, 0.93),\n",
       "       ( 74, 314, 108, 4, 4.5, 4. , 3.616, 1, 0.84),\n",
       "       ( 82, 340, 120, 4, 5. , 5. , 3.8  , 1, 0.96),\n",
       "       ( 83, 320, 110, 5, 5. , 4.5, 3.688, 1, 0.92),\n",
       "       ( 84, 322, 115, 5, 4. , 4.5, 3.744, 1, 0.92),\n",
       "       ( 85, 340, 115, 5, 4.5, 4.5, 3.78 , 1, 0.94),\n",
       "       ( 98, 331, 120, 3, 4. , 4. , 3.584, 1, 0.86),\n",
       "       ( 99, 332, 119, 4, 5. , 4.5, 3.696, 1, 0.9 ),\n",
       "       (107, 329, 111, 4, 4.5, 4.5, 3.672, 1, 0.87),\n",
       "       (108, 338, 117, 4, 3.5, 4.5, 3.784, 1, 0.91),\n",
       "       (109, 331, 116, 5, 5. , 5. , 3.752, 1, 0.93),\n",
       "       (121, 335, 117, 5, 5. , 5. , 3.824, 1, 0.94),\n",
       "       (122, 334, 119, 5, 4.5, 4.5, 3.792, 1, 0.94),\n",
       "       (127, 323, 113, 3, 4. , 3. , 3.728, 1, 0.85),\n",
       "       (129, 326, 112, 3, 3.5, 3. , 3.64 , 1, 0.84),\n",
       "       (130, 333, 118, 5, 5. , 5. , 3.74 , 1, 0.92),\n",
       "       (131, 339, 114, 5, 4. , 4.5, 3.904, 1, 0.96),\n",
       "       (135, 333, 113, 5, 4. , 4. , 3.712, 1, 0.89),\n",
       "       (136, 314, 109, 4, 3.5, 4. , 3.508, 1, 0.82),\n",
       "       (141, 329, 110, 2, 4. , 3. , 3.66 , 1, 0.84),\n",
       "       (142, 332, 118, 2, 4.5, 3.5, 3.744, 1, 0.9 ),\n",
       "       (143, 331, 115, 5, 4. , 3.5, 3.776, 1, 0.92),\n",
       "       (144, 340, 120, 4, 4.5, 4. , 3.968, 1, 0.97),\n",
       "       (146, 320, 113, 2, 2. , 2.5, 3.456, 1, 0.81),\n",
       "       (148, 326, 114, 3, 3. , 3. , 3.644, 1, 0.83),\n",
       "       (149, 339, 116, 4, 4. , 3.5, 3.92 , 1, 0.96),\n",
       "       (151, 334, 114, 4, 4. , 4. , 3.772, 1, 0.93),\n",
       "       (152, 332, 116, 5, 5. , 5. , 3.712, 1, 0.94),\n",
       "       (153, 321, 112, 5, 5. , 5. , 3.624, 1, 0.86),\n",
       "       (165, 329, 111, 4, 4.5, 4. , 3.604, 1, 0.81),\n",
       "       (172, 334, 117, 5, 4. , 4.5, 3.628, 1, 0.89),\n",
       "       (173, 322, 110, 4, 4. , 5. , 3.652, 1, 0.86),\n",
       "       (174, 323, 113, 4, 4. , 4.5, 3.692, 1, 0.89),\n",
       "       (175, 321, 111, 4, 4. , 4. , 3.588, 1, 0.87),\n",
       "       (176, 320, 111, 4, 4.5, 3.5, 3.548, 1, 0.85),\n",
       "       (177, 329, 119, 4, 4.5, 4.5, 3.664, 1, 0.9 ),\n",
       "       (178, 319, 110, 3, 3.5, 3.5, 3.616, 0, 0.82),\n",
       "       (186, 327, 113, 4, 4.5, 4.5, 3.644, 1, 0.89),\n",
       "       (187, 317, 107, 3, 3.5, 3. , 3.472, 1, 0.84),\n",
       "       (188, 335, 118, 5, 4.5, 3.5, 3.776, 1, 0.93),\n",
       "       (189, 331, 115, 5, 4.5, 3.5, 3.744, 1, 0.93),\n",
       "       (190, 324, 112, 5, 5. , 5. , 3.632, 1, 0.88),\n",
       "       (191, 324, 111, 5, 4.5, 4. , 3.664, 1, 0.9 ),\n",
       "       (192, 323, 110, 5, 4. , 5. , 3.592, 1, 0.87),\n",
       "       (193, 322, 114, 5, 4.5, 4. , 3.576, 1, 0.86),\n",
       "       (194, 336, 118, 5, 4.5, 5. , 3.812, 1, 0.94),\n",
       "       (203, 340, 120, 5, 4.5, 4.5, 3.964, 1, 0.97),\n",
       "       (204, 334, 120, 5, 4. , 5. , 3.948, 1, 0.97),\n",
       "       (212, 328, 110, 4, 5. , 4. , 3.656, 1, 0.82),\n",
       "       (213, 338, 120, 4, 5. , 5. , 3.864, 1, 0.95),\n",
       "       (214, 333, 119, 5, 5. , 4.5, 3.912, 1, 0.96),\n",
       "       (215, 331, 117, 4, 4.5, 5. , 3.768, 1, 0.94),\n",
       "       (216, 330, 116, 5, 5. , 4.5, 3.744, 1, 0.93),\n",
       "       (217, 322, 112, 4, 4.5, 4.5, 3.704, 1, 0.91),\n",
       "       (218, 321, 109, 4, 4. , 4. , 3.652, 1, 0.85),\n",
       "       (219, 324, 110, 4, 3. , 3.5, 3.588, 1, 0.84),\n",
       "       (230, 324, 111, 4, 3. , 3. , 3.604, 1, 0.82),\n",
       "       (235, 330, 113, 5, 5. , 4. , 3.724, 1, 0.91),\n",
       "       (236, 326, 111, 5, 4.5, 4. , 3.692, 1, 0.88),\n",
       "       (237, 325, 112, 4, 4. , 4.5, 3.668, 1, 0.85),\n",
       "       (238, 329, 114, 5, 4.5, 5. , 3.676, 1, 0.86),\n",
       "       (246, 328, 110, 4, 4. , 2.5, 3.608, 1, 0.81),\n",
       "       (254, 335, 115, 4, 4.5, 4.5, 3.872, 1, 0.93),\n",
       "       (255, 321, 114, 4, 4. , 5. , 3.648, 0, 0.85),\n",
       "       (260, 331, 119, 4, 5. , 4.5, 3.736, 1, 0.9 ),\n",
       "       (261, 327, 108, 5, 5. , 3.5, 3.652, 1, 0.87),\n",
       "       (269, 327, 113, 4, 4.5, 5. , 3.656, 0, 0.83),\n",
       "       (277, 329, 113, 5, 5. , 4.5, 3.78 , 1, 0.89),\n",
       "       (283, 312, 106, 3, 4. , 3.5, 3.516, 1, 0.81),\n",
       "       (285, 340, 112, 4, 5. , 4.5, 3.864, 1, 0.94),\n",
       "       (286, 331, 116, 5, 4. , 4. , 3.704, 1, 0.93),\n",
       "       (287, 336, 118, 5, 4.5, 4. , 3.676, 1, 0.92),\n",
       "       (288, 324, 114, 5, 5. , 4.5, 3.632, 1, 0.89),\n",
       "       (289, 314, 104, 4, 5. , 5. , 3.608, 0, 0.82),\n",
       "       (298, 320, 120, 3, 4. , 4.5, 3.644, 0, 0.86),\n",
       "       (299, 330, 114, 3, 4.5, 4.5, 3.696, 1, 0.9 ),\n",
       "       (312, 328, 108, 4, 4.5, 4. , 3.672, 1, 0.84),\n",
       "       (326, 326, 116, 3, 3.5, 4. , 3.656, 1, 0.81),\n",
       "       (336, 325, 111, 4, 4. , 4.5, 3.644, 1, 0.83),\n",
       "       (338, 332, 118, 5, 5. , 5. , 3.788, 1, 0.94),\n",
       "       (339, 323, 108, 5, 4. , 4. , 3.496, 1, 0.81),\n",
       "       (340, 324, 107, 5, 3.5, 4. , 3.464, 1, 0.81),\n",
       "       (360, 321, 107, 2, 2. , 1.5, 3.376, 0, 0.81),\n",
       "       (361, 322, 110, 3, 4. , 5. , 3.456, 1, 0.85),\n",
       "       (362, 334, 116, 4, 4. , 3.5, 3.816, 1, 0.93),\n",
       "       (363, 338, 115, 5, 4.5, 5. , 3.692, 1, 0.91),\n",
       "       (366, 330, 114, 4, 4.5, 3. , 3.668, 1, 0.86),\n",
       "       (372, 324, 110, 3, 3.5, 3. , 3.688, 1, 0.89),\n",
       "       (373, 336, 119, 4, 4.5, 4. , 3.848, 1, 0.95),\n",
       "       (383, 324, 110, 4, 4.5, 4. , 3.66 , 1, 0.82),\n",
       "       (385, 340, 113, 4, 5. , 5. , 3.896, 1, 0.96),\n",
       "       (386, 335, 117, 5, 5. , 5. , 3.928, 1, 0.96),\n",
       "       (393, 326, 112, 4, 4. , 3.5, 3.648, 1, 0.84),\n",
       "       (395, 329, 111, 4, 4.5, 4. , 3.692, 1, 0.89),\n",
       "       (396, 324, 110, 3, 3.5, 3.5, 3.616, 1, 0.82),\n",
       "       (397, 325, 107, 3, 3. , 3.5, 3.644, 1, 0.84),\n",
       "       (398, 330, 116, 4, 5. , 4.5, 3.78 , 1, 0.91),\n",
       "       (400, 333, 117, 4, 5. , 4. , 3.864, 1, 0.95)],\n",
       "      dtype=[('Serial_No', '<i8'), ('GRE_Score', '<i8'), ('TOEFL_Score', '<i8'), ('University_Rating', '<i8'), ('SOP', '<f8'), ('LOR', '<f8'), ('CGPA', '<f8'), ('Research', '<i8'), ('Chance_of_Admit', '<f8')])"
      ]
     },
     "execution_count": 97,
     "metadata": {},
     "output_type": "execute_result"
    }
   ],
   "source": [
    "graduate_admission[graduate_admission['Chance_of_Admit']>0.8]"
   ]
  },
  {
   "cell_type": "code",
   "execution_count": 98,
   "id": "84f33d06-3e1b-4a8f-bab2-d97beabf361f",
   "metadata": {},
   "outputs": [
    {
     "name": "stdout",
     "output_type": "stream",
     "text": [
      "3.7106666666666666\n",
      "3.0222857142857142\n"
     ]
    }
   ],
   "source": [
    "print(graduate_admission[graduate_admission['Chance_of_Admit']>0.8]['CGPA'].mean())\n",
    "print(graduate_admission[graduate_admission['Chance_of_Admit'] < 0.4]['CGPA'].mean())"
   ]
  },
  {
   "cell_type": "code",
   "execution_count": null,
   "id": "a173f9c8-33a7-480c-85ec-d4b8d3b8f7c3",
   "metadata": {},
   "outputs": [],
   "source": []
  }
 ],
 "metadata": {
  "kernelspec": {
   "display_name": "Python 3 (ipykernel)",
   "language": "python",
   "name": "python3"
  },
  "language_info": {
   "codemirror_mode": {
    "name": "ipython",
    "version": 3
   },
   "file_extension": ".py",
   "mimetype": "text/x-python",
   "name": "python",
   "nbconvert_exporter": "python",
   "pygments_lexer": "ipython3",
   "version": "3.8.10"
  }
 },
 "nbformat": 4,
 "nbformat_minor": 5
}
