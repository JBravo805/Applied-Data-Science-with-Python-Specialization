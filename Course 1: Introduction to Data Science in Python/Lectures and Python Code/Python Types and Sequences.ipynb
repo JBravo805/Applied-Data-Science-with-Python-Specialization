{
 "cells": [
  {
   "cell_type": "code",
   "execution_count": 1,
   "id": "7dcaa145-e064-4dfa-8608-47f910e5a878",
   "metadata": {},
   "outputs": [
    {
     "data": {
      "text/plain": [
       "tuple"
      ]
     },
     "execution_count": 1,
     "metadata": {},
     "output_type": "execute_result"
    }
   ],
   "source": [
    "x=(1,'a',2,'b')\n",
    "type(x)"
   ]
  },
  {
   "cell_type": "code",
   "execution_count": 2,
   "id": "623d660a-079a-4ed3-9893-66e299aa0a74",
   "metadata": {},
   "outputs": [
    {
     "data": {
      "text/plain": [
       "list"
      ]
     },
     "execution_count": 2,
     "metadata": {},
     "output_type": "execute_result"
    }
   ],
   "source": [
    "x=[1,'a',2,'b']\n",
    "type(x)"
   ]
  },
  {
   "cell_type": "code",
   "execution_count": 3,
   "id": "401577a8-1f0e-494b-b7e1-2e0996dc180d",
   "metadata": {},
   "outputs": [
    {
     "name": "stdout",
     "output_type": "stream",
     "text": [
      "[1, 'a', 2, 'b', 3.3]\n"
     ]
    }
   ],
   "source": [
    "x.append(3.3)\n",
    "print(x)"
   ]
  },
  {
   "cell_type": "code",
   "execution_count": 4,
   "id": "94f69a1d-a4b5-4ade-86c7-647222017e08",
   "metadata": {},
   "outputs": [
    {
     "name": "stdout",
     "output_type": "stream",
     "text": [
      "1\n",
      "a\n",
      "2\n",
      "b\n",
      "3.3\n"
     ]
    }
   ],
   "source": [
    "for item in x:\n",
    "        print(item)"
   ]
  },
  {
   "cell_type": "code",
   "execution_count": 7,
   "id": "367accc0-3281-49ab-9e15-708e824469af",
   "metadata": {},
   "outputs": [
    {
     "name": "stdout",
     "output_type": "stream",
     "text": [
      "1\n",
      "a\n",
      "2\n",
      "b\n",
      "3.3\n"
     ]
    }
   ],
   "source": [
    "i=0\n",
    "while(i !=len(x)):\n",
    "    print(x[i])\n",
    "    i=i+1"
   ]
  },
  {
   "cell_type": "code",
   "execution_count": 8,
   "id": "e83302e9-5c80-4524-b890-bfcde806c92e",
   "metadata": {},
   "outputs": [
    {
     "data": {
      "text/plain": [
       "[1, 2, 3, 4]"
      ]
     },
     "execution_count": 8,
     "metadata": {},
     "output_type": "execute_result"
    }
   ],
   "source": [
    "[1,2]+[3,4]"
   ]
  },
  {
   "cell_type": "code",
   "execution_count": 9,
   "id": "fd71ae17-ee71-446c-8bd6-0c88bac60bab",
   "metadata": {},
   "outputs": [
    {
     "data": {
      "text/plain": [
       "[1, 1, 1]"
      ]
     },
     "execution_count": 9,
     "metadata": {},
     "output_type": "execute_result"
    }
   ],
   "source": [
    "[1]*3"
   ]
  },
  {
   "cell_type": "code",
   "execution_count": 10,
   "id": "63db99aa-fa29-4d89-a9da-98b2cbfd47f7",
   "metadata": {},
   "outputs": [
    {
     "data": {
      "text/plain": [
       "True"
      ]
     },
     "execution_count": 10,
     "metadata": {},
     "output_type": "execute_result"
    }
   ],
   "source": [
    "1 in [1,2,3]"
   ]
  },
  {
   "cell_type": "code",
   "execution_count": 12,
   "id": "9b77ea3b-a072-42e1-a963-1686c83fcc89",
   "metadata": {},
   "outputs": [
    {
     "name": "stdout",
     "output_type": "stream",
     "text": [
      "T\n",
      "T\n",
      "Th\n"
     ]
    }
   ],
   "source": [
    "x='This is a string'\n",
    "print(x[0]) # T\n",
    "print(x[0:1]) # T\n",
    "print(x[0:2]) # Th"
   ]
  },
  {
   "cell_type": "code",
   "execution_count": 14,
   "id": "cf9f8a59-8138-475e-b1ba-6e5694737540",
   "metadata": {},
   "outputs": [
    {
     "name": "stdout",
     "output_type": "stream",
     "text": [
      "g\n"
     ]
    }
   ],
   "source": [
    "print(x[-1])"
   ]
  },
  {
   "cell_type": "code",
   "execution_count": 15,
   "id": "e12254f0-10ea-4f2c-be60-5e90bbd5e314",
   "metadata": {},
   "outputs": [
    {
     "name": "stdout",
     "output_type": "stream",
     "text": [
      "ri\n"
     ]
    }
   ],
   "source": [
    "print(x[-4:-2]) # 'ri'"
   ]
  },
  {
   "cell_type": "code",
   "execution_count": 16,
   "id": "ae8ac374-361a-431b-a55b-22b12dcc3637",
   "metadata": {},
   "outputs": [
    {
     "data": {
      "text/plain": [
       "'Thi'"
      ]
     },
     "execution_count": 16,
     "metadata": {},
     "output_type": "execute_result"
    }
   ],
   "source": [
    "x[:3] # Thi"
   ]
  },
  {
   "cell_type": "code",
   "execution_count": 17,
   "id": "c68c6ca0-c719-4e47-b756-c3dfe7c96121",
   "metadata": {},
   "outputs": [
    {
     "data": {
      "text/plain": [
       "'s is a string'"
      ]
     },
     "execution_count": 17,
     "metadata": {},
     "output_type": "execute_result"
    }
   ],
   "source": [
    "x[3:] # 's is a string'"
   ]
  },
  {
   "cell_type": "code",
   "execution_count": 18,
   "id": "78932834-bee2-4c50-a63e-af9b69f20594",
   "metadata": {},
   "outputs": [
    {
     "name": "stdout",
     "output_type": "stream",
     "text": [
      "Christopher\n"
     ]
    }
   ],
   "source": [
    "# get the name Christopher\n",
    "x= 'Dr. Christopher Brooks'\n",
    "print(x[4:15])"
   ]
  },
  {
   "cell_type": "code",
   "execution_count": 19,
   "id": "ef7ca301-ecf8-4736-adb9-70d49d80c384",
   "metadata": {},
   "outputs": [
    {
     "name": "stdout",
     "output_type": "stream",
     "text": [
      "Jose Romero\n",
      "JoseJoseJose\n",
      "True\n"
     ]
    }
   ],
   "source": [
    "firstname = 'Jose'\n",
    "lastname = 'Romero'\n",
    "\n",
    "print(firstname + ' ' + lastname)\n",
    "print(firstname * 3)\n",
    "print('Jose' in firstname)"
   ]
  },
  {
   "cell_type": "code",
   "execution_count": 20,
   "id": "961af664-7b6b-46ba-bbfb-18a7def5ddd9",
   "metadata": {},
   "outputs": [
    {
     "name": "stdout",
     "output_type": "stream",
     "text": [
      "Jose\n",
      "Romero\n"
     ]
    }
   ],
   "source": [
    "firstname = 'Jose Mario Romero'.split(' ')[0] # 'Jose'\n",
    "lastname = 'Jose Marion Romero'.split(' ')[-1] # 'Romero'\n",
    "print(firstname)\n",
    "print(lastname)"
   ]
  },
  {
   "cell_type": "code",
   "execution_count": 23,
   "id": "1411230f-9637-4f57-9557-6a50fc7b110f",
   "metadata": {},
   "outputs": [
    {
     "data": {
      "text/plain": [
       "'jose03@ucsb.edu'"
      ]
     },
     "execution_count": 23,
     "metadata": {},
     "output_type": "execute_result"
    }
   ],
   "source": [
    "x={'Jose Romero': 'jose03@ucsb.edu', 'Bob Doe': 'abc@gmail.com'}\n",
    "x['Jose Romero']"
   ]
  },
  {
   "cell_type": "code",
   "execution_count": 22,
   "id": "661d63a3-adfa-4ecd-92a7-2fd7fb80f8b8",
   "metadata": {},
   "outputs": [],
   "source": [
    "x['Jose']= None\n",
    "x['Jose']"
   ]
  },
  {
   "cell_type": "code",
   "execution_count": 24,
   "id": "ff8d8f49-cf53-457f-927e-74e64042f6db",
   "metadata": {},
   "outputs": [
    {
     "name": "stdout",
     "output_type": "stream",
     "text": [
      "jose03@ucsb.edu\n",
      "abc@gmail.com\n"
     ]
    }
   ],
   "source": [
    "for name in x:\n",
    "    print(x[name])"
   ]
  },
  {
   "cell_type": "code",
   "execution_count": 25,
   "id": "19b07bb2-5b55-45a3-bbe6-227ad6cc0d7a",
   "metadata": {},
   "outputs": [
    {
     "name": "stdout",
     "output_type": "stream",
     "text": [
      "jose03@ucsb.edu\n",
      "abc@gmail.com\n"
     ]
    }
   ],
   "source": [
    "for email in x.values():\n",
    "    print(email)\n",
    "    "
   ]
  },
  {
   "cell_type": "code",
   "execution_count": 26,
   "id": "394118e5-d56c-48cb-9099-2ec36714b654",
   "metadata": {},
   "outputs": [
    {
     "name": "stdout",
     "output_type": "stream",
     "text": [
      "Jose Romero\n",
      "jose03@ucsb.edu\n",
      "Bob Doe\n",
      "abc@gmail.com\n"
     ]
    }
   ],
   "source": [
    "for name, email in x.items():\n",
    "    print(name)\n",
    "    print(email)"
   ]
  },
  {
   "cell_type": "code",
   "execution_count": 27,
   "id": "23cd73e7-6ca9-4e8b-bfc0-43c3e62efaeb",
   "metadata": {},
   "outputs": [],
   "source": [
    "#unpacking\n",
    "x = ('Jose', 'Romero', 'jose03@ucsb.edu')\n",
    "fname, lname, email = x "
   ]
  },
  {
   "cell_type": "code",
   "execution_count": 28,
   "id": "611c27c4-5b7d-4118-b612-66cd1ecf47a9",
   "metadata": {},
   "outputs": [
    {
     "data": {
      "text/plain": [
       "'Jose'"
      ]
     },
     "execution_count": 28,
     "metadata": {},
     "output_type": "execute_result"
    }
   ],
   "source": [
    "fname"
   ]
  },
  {
   "cell_type": "code",
   "execution_count": 29,
   "id": "735bbbc6-0942-45f3-8cd6-c2e6bff501c8",
   "metadata": {},
   "outputs": [
    {
     "data": {
      "text/plain": [
       "'Romero'"
      ]
     },
     "execution_count": 29,
     "metadata": {},
     "output_type": "execute_result"
    }
   ],
   "source": [
    "lname"
   ]
  },
  {
   "cell_type": "code",
   "execution_count": 30,
   "id": "d0495713-40dd-48d6-9ed0-386f8f2c3b69",
   "metadata": {},
   "outputs": [
    {
     "ename": "ValueError",
     "evalue": "too many values to unpack (expected 3)",
     "output_type": "error",
     "traceback": [
      "\u001b[0;31m---------------------------------------------------------------------------\u001b[0m",
      "\u001b[0;31mValueError\u001b[0m                                Traceback (most recent call last)",
      "Input \u001b[0;32mIn [30]\u001b[0m, in \u001b[0;36m<cell line: 2>\u001b[0;34m()\u001b[0m\n\u001b[1;32m      1\u001b[0m x \u001b[38;5;241m=\u001b[39m (\u001b[38;5;124m'\u001b[39m\u001b[38;5;124mJose\u001b[39m\u001b[38;5;124m'\u001b[39m, \u001b[38;5;124m'\u001b[39m\u001b[38;5;124mRomero\u001b[39m\u001b[38;5;124m'\u001b[39m, \u001b[38;5;124m'\u001b[39m\u001b[38;5;124mjose03@ucsb.edu\u001b[39m\u001b[38;5;124m'\u001b[39m, \u001b[38;5;241m1\u001b[39m)\n\u001b[0;32m----> 2\u001b[0m fname, lname, email \u001b[38;5;241m=\u001b[39m x\n",
      "\u001b[0;31mValueError\u001b[0m: too many values to unpack (expected 3)"
     ]
    }
   ],
   "source": [
    "x = ('Jose', 'Romero', 'jose03@ucsb.edu', 1)\n",
    "fname, lname, email = x "
   ]
  },
  {
   "cell_type": "code",
   "execution_count": null,
   "id": "28b9e693-66c8-44c9-96a3-ee913b608a49",
   "metadata": {},
   "outputs": [],
   "source": []
  }
 ],
 "metadata": {
  "kernelspec": {
   "display_name": "Python 3 (ipykernel)",
   "language": "python",
   "name": "python3"
  },
  "language_info": {
   "codemirror_mode": {
    "name": "ipython",
    "version": 3
   },
   "file_extension": ".py",
   "mimetype": "text/x-python",
   "name": "python",
   "nbconvert_exporter": "python",
   "pygments_lexer": "ipython3",
   "version": "3.8.10"
  }
 },
 "nbformat": 4,
 "nbformat_minor": 5
}
