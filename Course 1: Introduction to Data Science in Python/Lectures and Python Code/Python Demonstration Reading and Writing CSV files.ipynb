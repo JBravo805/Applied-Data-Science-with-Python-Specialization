{
 "cells": [
  {
   "cell_type": "markdown",
   "id": "726e27a9-6e37-4265-9710-0dacd4324b48",
   "metadata": {},
   "source": [
    "# Data Files and Summary Statistics"
   ]
  },
  {
   "cell_type": "code",
   "execution_count": 3,
   "id": "ffe4f851-dc00-4b11-be02-e1a45e5e8e07",
   "metadata": {},
   "outputs": [
    {
     "data": {
      "text/plain": [
       "[{'\\ufeff': '1',\n",
       "  'manufacturer': 'audi',\n",
       "  'model': 'a4',\n",
       "  'displ': '1.8',\n",
       "  'year': '1999',\n",
       "  'cyl': '4',\n",
       "  'trans': 'auto(l5)',\n",
       "  'drv': 'f',\n",
       "  'cty': '18',\n",
       "  'hwy': '29',\n",
       "  'fl': 'p',\n",
       "  'class': 'compact'},\n",
       " {'\\ufeff': '2',\n",
       "  'manufacturer': 'audi',\n",
       "  'model': 'a4',\n",
       "  'displ': '1.8',\n",
       "  'year': '1999',\n",
       "  'cyl': '4',\n",
       "  'trans': 'manual(m5)',\n",
       "  'drv': 'f',\n",
       "  'cty': '21',\n",
       "  'hwy': '29',\n",
       "  'fl': 'p',\n",
       "  'class': 'compact'},\n",
       " {'\\ufeff': '3',\n",
       "  'manufacturer': 'audi',\n",
       "  'model': 'a4',\n",
       "  'displ': '2',\n",
       "  'year': '2008',\n",
       "  'cyl': '4',\n",
       "  'trans': 'manual(m6)',\n",
       "  'drv': 'f',\n",
       "  'cty': '20',\n",
       "  'hwy': '31',\n",
       "  'fl': 'p',\n",
       "  'class': 'compact'}]"
      ]
     },
     "execution_count": 3,
     "metadata": {},
     "output_type": "execute_result"
    }
   ],
   "source": [
    "import csv\n",
    "\n",
    "%precision 2\n",
    "\n",
    "with open('mpg.csv') as csvfile:\n",
    "    mpg = list(csv.DictReader(csvfile))\n",
    "mpg[:3]"
   ]
  },
  {
   "cell_type": "code",
   "execution_count": 4,
   "id": "20e95931-bd8b-4049-b067-a7923f67ee95",
   "metadata": {},
   "outputs": [
    {
     "data": {
      "text/plain": [
       "234"
      ]
     },
     "execution_count": 4,
     "metadata": {},
     "output_type": "execute_result"
    }
   ],
   "source": [
    "len(mpg)"
   ]
  },
  {
   "cell_type": "code",
   "execution_count": 5,
   "id": "ec93860e-63bc-4d24-a48f-dd0f7624729c",
   "metadata": {},
   "outputs": [
    {
     "data": {
      "text/plain": [
       "dict_keys(['\\ufeff', 'manufacturer', 'model', 'displ', 'year', 'cyl', 'trans', 'drv', 'cty', 'hwy', 'fl', 'class'])"
      ]
     },
     "execution_count": 5,
     "metadata": {},
     "output_type": "execute_result"
    }
   ],
   "source": [
    "mpg[0].keys()"
   ]
  },
  {
   "cell_type": "code",
   "execution_count": 16,
   "id": "a42c4d64-5bc0-4166-b7af-e64779254ec2",
   "metadata": {},
   "outputs": [
    {
     "data": {
      "text/plain": [
       "16.86"
      ]
     },
     "execution_count": 16,
     "metadata": {},
     "output_type": "execute_result"
    }
   ],
   "source": [
    "#sum the city mpg entry across all the dict. in our list\n",
    "#and divide by the length of the list\n",
    "sum(float(d['cty']) for d in mpg) / len(mpg)"
   ]
  },
  {
   "cell_type": "code",
   "execution_count": 18,
   "id": "2c1217ef-91f9-4830-a07f-565932bde5b6",
   "metadata": {},
   "outputs": [
    {
     "data": {
      "text/plain": [
       "23.44"
      ]
     },
     "execution_count": 18,
     "metadata": {},
     "output_type": "execute_result"
    }
   ],
   "source": [
    "#since we can find the average highway mpg across all the cars in our csv file\n",
    "# it makes sense that the avg highway fuel economy is higher than in the city. \n",
    "sum(float(d['hwy']) for d in mpg) / len(mpg)"
   ]
  },
  {
   "cell_type": "code",
   "execution_count": 21,
   "id": "8f547a09-51ca-4b3a-be17-a154dd10eb42",
   "metadata": {},
   "outputs": [
    {
     "data": {
      "text/plain": [
       "{'4', '5', '6', '8'}"
      ]
     },
     "execution_count": 21,
     "metadata": {},
     "output_type": "execute_result"
    }
   ],
   "source": [
    "#Now lets look at a more complex example. Say we want to know what the avg city MPG is \n",
    "#grouped by the number of cylinders a car has.\n",
    "#creating a set of values in the cylinder entry of the dict. will give us unique levels\n",
    "#for a number of cylinders\n",
    "cylinders = set(d['cyl'] for d in mpg)\n",
    "cylinders "
   ]
  },
  {
   "cell_type": "markdown",
   "id": "7e100f9c-829d-43d5-b879-da405d1f4e3d",
   "metadata": {},
   "source": [
    "# We see that we have cars in our dataset with 4, 5, 6, and 8 cylinders. "
   ]
  },
  {
   "cell_type": "code",
   "execution_count": 23,
   "id": "c20f7ed4-9693-4b70-a018-0919cd5f91ff",
   "metadata": {},
   "outputs": [
    {
     "data": {
      "text/plain": [
       "[('4', 21.01), ('5', 20.50), ('6', 16.22), ('8', 12.57)]"
      ]
     },
     "execution_count": 23,
     "metadata": {},
     "output_type": "execute_result"
    }
   ],
   "source": [
    "# First create an empty list where we'll store our calculation\n",
    "CtyMpgByCyl = []\n",
    "\n",
    "#Next, lets iterate over all the cylinder levels\n",
    "for c in cylinders:\n",
    "    sumMpg = 0 \n",
    "    cyltypecount =0 \n",
    "#Then we'll iterate over all the dictionaries\n",
    "    for d in mpg:\n",
    "        # If the cylinder level for the dict. we're on matches the cylinder lever we're calc. the\n",
    "        # avg for, we add the mpg to our sumMpg variable and increment count\n",
    "        if d['cyl'] == c:\n",
    "            sumMpg += float(d['cty'])\n",
    "            cyltypecount += 1\n",
    "# After going through all the dictionaries, we perform the avg mpg calc. and append it to our list\n",
    "    CtyMpgByCyl.append((c,sumMpg / cyltypecount))\n",
    "# To make things clearer, we sort the list from lowest number of cylinders to highest.\n",
    "CtyMpgByCyl.sort(key=lambda x: x[0])\n",
    "CtyMpgByCyl"
   ]
  },
  {
   "cell_type": "markdown",
   "id": "e9dc5eb4-a44f-4542-a80f-a0c59bd1c5b5",
   "metadata": {},
   "source": [
    " # We can see that the city fuel economy appears to be decreasing as the number of cylinders increases."
   ]
  },
  {
   "cell_type": "markdown",
   "id": "7cddc131-11e1-4e6e-acc1-b644f3620b5e",
   "metadata": {},
   "source": [
    "# Suppose we're interested in finding the average highway mpg for the different vechile classes."
   ]
  },
  {
   "cell_type": "code",
   "execution_count": 6,
   "id": "38d38fc4-9941-47e3-a43c-d61f603d4e44",
   "metadata": {},
   "outputs": [
    {
     "data": {
      "text/plain": [
       "{'2seater', 'compact', 'midsize', 'minivan', 'pickup', 'subcompact', 'suv'}"
      ]
     },
     "execution_count": 6,
     "metadata": {},
     "output_type": "execute_result"
    }
   ],
   "source": [
    "# Where d is a dummy variable\n",
    "# ['class'] is the column in mpg\n",
    "# mpg is our csv file\n",
    "vehicleClass = set(d['class'] for d in mpg)\n",
    "\n",
    "#output\n",
    "vehicleClass"
   ]
  },
  {
   "cell_type": "markdown",
   "id": "74a54e1c-5a1b-46f6-852f-4c3072554796",
   "metadata": {},
   "source": [
    "# Similar to our last example, we iterate over all the vehicle classes then iterate over all dictionaries."
   ]
  },
  {
   "cell_type": "code",
   "execution_count": 9,
   "id": "2aed725e-8ed8-4ef9-bc96-51478a43e077",
   "metadata": {},
   "outputs": [
    {
     "data": {
      "text/plain": [
       "[('pickup', 16.88),\n",
       " ('suv', 18.13),\n",
       " ('minivan', 22.36),\n",
       " ('2seater', 24.80),\n",
       " ('midsize', 27.29),\n",
       " ('subcompact', 28.14),\n",
       " ('compact', 28.30)]"
      ]
     },
     "execution_count": 9,
     "metadata": {},
     "output_type": "execute_result"
    }
   ],
   "source": [
    "# Create an empty list\n",
    "HwyMpgByClass = []\n",
    "\n",
    "# Iterate over all vehicle classes\n",
    "for vc in vehicleClass: \n",
    "    # Sum the hwy mpg per vehicle class\n",
    "    summpg = 0\n",
    "    # Counts the number of vehicles per class\n",
    "    vclasscount = 0 \n",
    "    for d in mpg:\n",
    "    # if the vehicle class for the dictionary matches the vehicle we're calculating\n",
    "    # i.e, {'2seater', 'compact',...}\n",
    "    # the average highway mpg for\n",
    "        if d['class'] == vc:\n",
    "            # then we add the value to our total(summpg)\n",
    "            summpg += float(d['hwy'])\n",
    "       # Increment the count per vehicle class\n",
    "            vclasscount += 1\n",
    "    #The average calculation and append to our list\n",
    "    # (Every vehicle class + total hwy mpg) / ( Num of vehicle classes)\n",
    "    HwyMpgByClass.append((vc, summpg / vclasscount))\n",
    "    \n",
    "# Sort the list from lowest mpg to highest mpg\n",
    "# x is a variable being passed as an argument to the lambda function\n",
    "# x[1] is referring to the second element of the sublist i.e., for d in mpg\n",
    "# Thus x[1] refers to the element at index 1 of the sublist, not the second element of the list.\n",
    "\n",
    "# 'key=lambda x: x[1]' tells the sort func. to use the second element(item) of each sublist x[1]\n",
    "# as the key for sorting the entire list HwyMpgByClass. Sorting by mpg\n",
    "HwyMpgByClass.sort(key=lambda x: x[1])\n",
    "HwyMpgByClass"
   ]
  },
  {
   "cell_type": "markdown",
   "id": "5f1bf93c-d4f8-4ee9-bbf2-83f066f682d9",
   "metadata": {},
   "source": [
    " # Based on our analysis pickup truck has the worst fuel economy and compact has the best."
   ]
  }
 ],
 "metadata": {
  "kernelspec": {
   "display_name": "Python 3 (ipykernel)",
   "language": "python",
   "name": "python3"
  },
  "language_info": {
   "codemirror_mode": {
    "name": "ipython",
    "version": 3
   },
   "file_extension": ".py",
   "mimetype": "text/x-python",
   "name": "python",
   "nbconvert_exporter": "python",
   "pygments_lexer": "ipython3",
   "version": "3.8.10"
  }
 },
 "nbformat": 4,
 "nbformat_minor": 5
}
